{
 "cells": [
  {
   "cell_type": "code",
   "execution_count": 1,
   "metadata": {},
   "outputs": [
    {
     "name": "stderr",
     "output_type": "stream",
     "text": [
      "/Users/nimishawalgaonkar/anaconda2/envs/scikit_optimize_develop/lib/python3.6/site-packages/sklearn/ensemble/weight_boosting.py:29: DeprecationWarning: numpy.core.umath_tests is an internal NumPy module and should not be imported. It will be removed in a future NumPy release.\n",
      "  from numpy.core.umath_tests import inner1d\n"
     ]
    },
    {
     "data": {
      "text/html": [
       "\n",
       "    <span>ListVector with 4 elements.</span>\n",
       "    <table>\n",
       "      <tbody>\n",
       "      \n",
       "      <tr>\n",
       "      <th>\n",
       "        functions\n",
       "      </th>\n",
       "      <td>\n",
       "        \n",
       "    <span>StrVector with 4 elements.</span>\n",
       "    <table>\n",
       "      <tbody>\n",
       "      <tr>\n",
       "      \n",
       "      <td>\n",
       "        'v1cpp'\n",
       "      </td>\n",
       "      \n",
       "      <td>\n",
       "        'v2cpp'\n",
       "      </td>\n",
       "      \n",
       "      <td>\n",
       "        'r_cpp'\n",
       "      </td>\n",
       "      \n",
       "      <td>\n",
       "        'qEI_cpp'\n",
       "      </td>\n",
       "      \n",
       "      </tr>\n",
       "      </tbody>\n",
       "    </table>\n",
       "    \n",
       "      </td>\n",
       "      </tr>\n",
       "      \n",
       "      <tr>\n",
       "      <th>\n",
       "        modules\n",
       "      </th>\n",
       "      <td>\n",
       "        \n",
       "    <span>StrVector with 0 elements.</span>\n",
       "    <table>\n",
       "      <tbody>\n",
       "      <tr>\n",
       "      \n",
       "      </tr>\n",
       "      </tbody>\n",
       "    </table>\n",
       "    \n",
       "      </td>\n",
       "      </tr>\n",
       "      \n",
       "      <tr>\n",
       "      <th>\n",
       "        cppSourcePath\n",
       "      </th>\n",
       "      <td>\n",
       "        \n",
       "    <span>StrVector with 1 elements.</span>\n",
       "    <table>\n",
       "      <tbody>\n",
       "      <tr>\n",
       "      \n",
       "      <td>\n",
       "        '/Users/nimishawalgaonkar/Desktop/argonne_interns...\n",
       "      </td>\n",
       "      \n",
       "      </tr>\n",
       "      </tbody>\n",
       "    </table>\n",
       "    \n",
       "      </td>\n",
       "      </tr>\n",
       "      \n",
       "      <tr>\n",
       "      <th>\n",
       "        buildDirectory\n",
       "      </th>\n",
       "      <td>\n",
       "        \n",
       "    <span>StrVector with 1 elements.</span>\n",
       "    <table>\n",
       "      <tbody>\n",
       "      <tr>\n",
       "      \n",
       "      <td>\n",
       "        '/private/var/folders/gb/vdsbv89172b7s2ckdmxgsxqr...\n",
       "      </td>\n",
       "      \n",
       "      </tr>\n",
       "      </tbody>\n",
       "    </table>\n",
       "    \n",
       "      </td>\n",
       "      </tr>\n",
       "      \n",
       "      </tbody>\n",
       "    </table>\n",
       "    "
      ],
      "text/plain": [
       "R object with classes: ('list',) mapped to:\n",
       "<ListVector - Python:0x1a21945208 / R:0x7fb9fa0fa898>\n",
       "[StrVector, StrVector, StrVector, StrVector]\n",
       "  functions: <class 'rpy2.robjects.vectors.StrVector'>\n",
       "  R object with classes: ('character',) mapped to:\n",
       "<StrVector - Python:0x1a21736788 / R:0x7fb9f3ff3958>\n",
       "['v1cpp', 'v2cpp', 'r_cpp', 'qEI_cpp']\n",
       "  modules: <class 'rpy2.robjects.vectors.StrVector'>\n",
       "  R object with classes: ('character',) mapped to:\n",
       "<StrVector - Python:0x1a21943d88 / R:0x7fb9f35b64d0>\n",
       "[]\n",
       "  cppSourcePath: <class 'rpy2.robjects.vectors.StrVector'>\n",
       "  R object with classes: ('character',) mapped to:\n",
       "<StrVector - Python:0x1a21943d48 / R:0x7fb9f5dc0b48>\n",
       "['/Users/nimishawalgaonkar/Desktop/argonne_interns...]\n",
       "  buildDirectory: <class 'rpy2.robjects.vectors.StrVector'>\n",
       "  R object with classes: ('character',) mapped to:\n",
       "<StrVector - Python:0x1a21941a88 / R:0x7fb9f5dc0ae8>\n",
       "['/private/var/folders/gb/vdsbv89172b7s2ckdmxgsxqr...]"
      ]
     },
     "execution_count": 1,
     "metadata": {},
     "output_type": "execute_result"
    },
    {
     "data": {
      "text/plain": [
       "<Figure size 432x288 with 0 Axes>"
      ]
     },
     "metadata": {},
     "output_type": "display_data"
    }
   ],
   "source": [
    "import numpy as np\n",
    "np.random.seed(123)\n",
    "\n",
    "%matplotlib inline\n",
    "import matplotlib.pyplot as plt\n",
    "plt.set_cmap(\"viridis\")\n",
    "\n",
    "from skopt.benchmarks import branin\n",
    "from skopt import Optimizer\n",
    "from pyDOE import *\n",
    "\n",
    "from rpy2.robjects.packages import STAP\n",
    "with open('qEI_call.r', 'r') as f:\n",
    "    string = f.read()\n",
    "qEI = STAP(string, \"qEI_call\")\n",
    "import rpy2.robjects.numpy2ri\n",
    "rpy2.robjects.numpy2ri.activate()\n",
    "from rpy2.robjects.packages import importr\n",
    "import rpy2.robjects.numpy2ri as rpyn\n",
    "rcpp = importr(\"Rcpp\")\n",
    "rcpp.sourceCpp('qEI.cpp')"
   ]
  },
  {
   "cell_type": "code",
   "execution_count": 2,
   "metadata": {},
   "outputs": [],
   "source": [
    "def plot_branin_with_points(X):\n",
    "    fig, ax = plt.subplots(figsize = (12,8))\n",
    "\n",
    "    x1_values = np.linspace(-5, 10, 100)\n",
    "    x2_values = np.linspace(0, 15, 100)\n",
    "    x_ax, y_ax = np.meshgrid(x1_values, x2_values)\n",
    "    vals = np.c_[x_ax.ravel(), y_ax.ravel()]\n",
    "    fx = np.reshape([branin(val) for val in vals], (100, 100))\n",
    "\n",
    "    cm = ax.pcolormesh(x_ax, y_ax, fx,\n",
    "                       norm=LogNorm(vmin=fx.min(), \n",
    "                                    vmax=fx.max()))\n",
    "    ax.plot(X[:,0], X[:, 1], \"k.\", markersize=14, lw=0, label=\"points\")\n",
    "\n",
    "    cb = fig.colorbar(cm)\n",
    "    cb.set_label(\"f(x)\")\n",
    "\n",
    "    ax.legend(loc=\"best\", numpoints=1)\n",
    "\n",
    "    ax.set_xlabel(\"X1\")\n",
    "    ax.set_xlim([-5, 10])\n",
    "    ax.set_ylabel(\"X2\")\n",
    "    ax.set_ylim([0, 15])"
   ]
  },
  {
   "cell_type": "code",
   "execution_count": 3,
   "metadata": {},
   "outputs": [
    {
     "data": {
      "image/png": "[encoded data removed]",
      "text/plain": [
       "<Figure size 864x576 with 2 Axes>"
      ]
     },
     "metadata": {},
     "output_type": "display_data"
    }
   ],
   "source": [
    "from matplotlib.colors import LogNorm\n",
    "\n",
    "def plot_branin_with_minima():\n",
    "    fig, ax = plt.subplots(figsize = (12,8))\n",
    "\n",
    "    x1_values = np.linspace(-5, 10, 100)\n",
    "    x2_values = np.linspace(0, 15, 100)\n",
    "    x_ax, y_ax = np.meshgrid(x1_values, x2_values)\n",
    "    vals = np.c_[x_ax.ravel(), y_ax.ravel()]\n",
    "    fx = np.reshape([branin(val) for val in vals], (100, 100))\n",
    "\n",
    "    cm = ax.pcolormesh(x_ax, y_ax, fx,\n",
    "                       norm=LogNorm(vmin=fx.min(), \n",
    "                                    vmax=fx.max()))\n",
    "\n",
    "    minima = np.array([[-np.pi, 12.275], [+np.pi, 2.275], [9.42478, 2.475]])\n",
    "    ax.plot(minima[:, 0], minima[:, 1], \"r.\", markersize=14, lw=0, label=\"Minima\")\n",
    "\n",
    "    cb = fig.colorbar(cm)\n",
    "    cb.set_label(\"f(x)\")\n",
    "\n",
    "    ax.legend(loc=\"best\", numpoints=1)\n",
    "\n",
    "    ax.set_xlabel(\"X1\")\n",
    "    ax.set_xlim([-5, 10])\n",
    "    ax.set_ylabel(\"X2\")\n",
    "    ax.set_ylim([0, 15])\n",
    "\n",
    "plot_branin_with_minima()"
   ]
  },
  {
   "cell_type": "code",
   "execution_count": 4,
   "metadata": {},
   "outputs": [],
   "source": [
    "ntrain = 50 # number of initial training points\n",
    "d = 2 # number of dimensions of the input features\n",
    "\n",
    "X_train_norm = lhs(2, samples= ntrain, criterion='maximin') # Initial training points\n",
    "X_train = np.zeros(X_train_norm.shape)\n",
    "X_train[:,0] = X_train_norm[:,0]*15 - 5.\n",
    "X_train[:,1] = X_train_norm[:,1]*15\n",
    "Y_train = branin(X_train.T)\n",
    "bounds = [(-5.0, 10.0), (0.0, 15.0)]"
   ]
  },
  {
   "cell_type": "markdown",
   "metadata": {},
   "source": [
    "# 1. Constant Liar Strategy\n",
    "\n",
    "Points to look into \n",
    "1. Check the space which constant liar strategy is using\n",
    "2. Fix \"sampling\" for how to choose points\n"
   ]
  },
  {
   "cell_type": "code",
   "execution_count": 5,
   "metadata": {},
   "outputs": [],
   "source": [
    "opt = Optimizer(bounds, base_estimator=\"gp\", acq_func = 'EI',\n",
    "                acq_optimizer = 'sampling', random_state = 123)"
   ]
  },
  {
   "cell_type": "code",
   "execution_count": 6,
   "metadata": {},
   "outputs": [
    {
     "data": {
      "text/plain": [
       "'sampling'"
      ]
     },
     "execution_count": 6,
     "metadata": {},
     "output_type": "execute_result"
    }
   ],
   "source": [
    "opt.acq_optimizer"
   ]
  },
  {
   "cell_type": "code",
   "execution_count": 7,
   "metadata": {},
   "outputs": [
    {
     "data": {
      "text/plain": [
       "          fun: 0.454993414507193\n",
       "    func_vals: array([ 38.02139204,   6.84686835,   3.84769098,  46.59864996,\n",
       "       106.03068841,  17.26558586,  57.94172046,  12.99403395,\n",
       "        37.08600539,  33.22398312, 138.778057  ,  44.41353045,\n",
       "        20.17648984,  15.83438464,  16.37311789,  21.60955363,\n",
       "       177.84822597, 101.88955032,  59.36459719,  17.42976814,\n",
       "        29.01136075, 137.9990274 ,  47.63844269,  15.39186586,\n",
       "        28.03105857,  60.11433157,  17.99784872, 113.18550174,\n",
       "        43.29446292,  98.12992219,  26.65863116, 170.3432751 ,\n",
       "        30.36408375,  18.13490032,   9.10906695,   3.83218899,\n",
       "         6.91201808,   0.45499341,  87.91668479,  53.59800883,\n",
       "       171.20195916,  84.1924601 ,  26.90390004,  70.32490478,\n",
       "       218.07823256,  53.36640107,  39.32534174,  11.68385873,\n",
       "        94.2446718 ,   3.72747342])\n",
       "       models: [GaussianProcessRegressor(alpha=1e-10, copy_X_train=True,\n",
       "             kernel=1**2 * Matern(length_scale=[1, 1], nu=2.5) + WhiteKernel(noise_level=1),\n",
       "             n_restarts_optimizer=2, noise='gaussian', normalize_y=True,\n",
       "             optimizer='fmin_l_bfgs_b', random_state=843828734)]\n",
       " random_state: <mtrand.RandomState object at 0x10e8dd168>\n",
       "        space: Space([Real(low=-5.0, high=10.0, prior='uniform', transform='normalize'),\n",
       "       Real(low=0.0, high=15.0, prior='uniform', transform='normalize')])\n",
       "        specs: None\n",
       "            x: [3.2473571442923763, 2.135219531157447]\n",
       "      x_iters: [[-0.025786035981663957, 10.333266318398396], [8.191629473568398, 1.464682830358985], [3.5081271158361123, 3.683407078123211], [-0.6995490761398946, 12.585075487520745], [4.38394060553073, 11.461839460885567], [5.345166711710389, 2.443579120191136], [4.913025427291084, 8.083309661885577], [7.844789826900117, 3.169371102778843], [9.730863965614347, 8.765410631864842], [6.583593111716471, 4.869805913667864], [2.9040384160640684, 14.219591723904943], [-1.642599283783833, 14.88756255994164], [-4.03816546138593, 10.512204957147414], [7.25900600546213, 1.9267630059324174], [9.455465809307594, 6.4973445219449415], [-1.8907437650730659, 5.646172265903366], [4.253725752190878, 14.686145520994343], [8.62169595953537, 11.808545179659408], [-2.9121964324223306, 4.067921368693414], [8.824795802799962, 5.933929998626684], [-0.8774718733565372, 11.084135861972229], [4.694305406088761, 12.696892182840728], [8.322598040123735, 8.1810528802291], [1.0712434659964805, 5.333330705266412], [-0.2918045891425267, 3.503071757895828], [5.899826085118583, 7.526222322795847], [1.8318633491504626, 0.28130050703717874], [2.4426891618135356, 13.396776930866542], [-4.427596674901088, 9.579867494442444], [1.5861091357874963, 13.196205329349118], [-1.335348365817302, 12.152820518205068], [-3.70187003221535, 0.6821526634959227], [-2.826490088433297, 6.099774080915303], [2.5018083656959895, 6.806512302966189], [1.9612912353545306, 1.7128869685677293], [-2.272344170789489, 10.112134518080303], [9.181443956052924, 4.7736396364432885], [3.2473571442923763, 2.135219531157447], [7.389070454817057, 9.872914398613002], [0.46012039448879616, 11.210662452504279], [-4.9273340580523195, 4.362896634763558], [6.285297993134408, 9.13688117971247], [-3.2533088555828824, 7.402510538072812], [5.510897003305594, 8.46319578826622], [-4.209608578922586, 0.40463919482609734], [6.749519932848411, 7.041206624533962], [0.3240092892329489, 1.0009018586990384], [-2.50968399253964, 13.87908310383535], [0.8394804564168474, 13.577204431722173], [3.8263600171510035, 2.880879659012077]]"
      ]
     },
     "execution_count": 7,
     "metadata": {},
     "output_type": "execute_result"
    }
   ],
   "source": [
    "opt.tell(X_train.tolist(), Y_train.tolist())"
   ]
  },
  {
   "cell_type": "code",
   "execution_count": 8,
   "metadata": {},
   "outputs": [
    {
     "data": {
      "text/plain": [
       "[9.959136814295084, 1.3815586587454889]"
      ]
     },
     "execution_count": 8,
     "metadata": {},
     "output_type": "execute_result"
    }
   ],
   "source": [
    "opt.ask()"
   ]
  },
  {
   "cell_type": "markdown",
   "metadata": {},
   "source": [
    "# Have made following changes to optimizer.py\n",
    "\n",
    "After calling ask() method for object optimizer, an attribute opt.Xspace is created to save the points over which optimizer is looking for new points. This will help in using approx_qEI function for this space."
   ]
  },
  {
   "cell_type": "code",
   "execution_count": 9,
   "metadata": {},
   "outputs": [],
   "source": [
    "num_queries = [10,30,100, 300]"
   ]
  },
  {
   "cell_type": "code",
   "execution_count": 10,
   "metadata": {},
   "outputs": [],
   "source": [
    "#import timeit\n",
    "\n",
    "#start = timeit.default_timer()\n",
    "\n",
    "####Your statements here\n",
    "\n",
    "#stop = timeit.default_timer()\n",
    "\n",
    "#print stop - start "
   ]
  },
  {
   "cell_type": "code",
   "execution_count": 11,
   "metadata": {},
   "outputs": [
    {
     "name": "stdout",
     "output_type": "stream",
     "text": [
      "Time taken for queries10:3.7039626860059798\n",
      "Time taken for queries30:10.142529799981276\n",
      "Time taken for queries100:40.80400313201244\n",
      "Time taken for queries300:352.81730270700064\n"
     ]
    }
   ],
   "source": [
    "import timeit\n",
    "\n",
    "all_points = []\n",
    "time_tk = []\n",
    "for query in num_queries:\n",
    "    start = timeit.default_timer()\n",
    "    next_points = opt.ask(n_points= query)\n",
    "    stop = timeit.default_timer()\n",
    "    t = stop - start\n",
    "    time_tk.append(t)\n",
    "    print ('Time taken for queries' + str(query) + ':' + str(t)) \n",
    "    all_points.append(next_points)"
   ]
  },
  {
   "cell_type": "code",
   "execution_count": 13,
   "metadata": {},
   "outputs": [],
   "source": [
    "time_tk\n",
    "np.savetxt('t1.txt', time_tk)"
   ]
  },
  {
   "cell_type": "code",
   "execution_count": null,
   "metadata": {},
   "outputs": [],
   "source": []
  },
  {
   "cell_type": "markdown",
   "metadata": {},
   "source": [
    "# 2. qEI Approximation"
   ]
  },
  {
   "cell_type": "code",
   "execution_count": 14,
   "metadata": {},
   "outputs": [],
   "source": [
    "X_space = np.array(opt.space.inverse_transform(opt.Xspace)) # this is going to be of help later on with approx qEI/"
   ]
  },
  {
   "cell_type": "code",
   "execution_count": null,
   "metadata": {},
   "outputs": [],
   "source": []
  },
  {
   "cell_type": "code",
   "execution_count": 15,
   "metadata": {},
   "outputs": [],
   "source": [
    "def neg_branin(x):\n",
    "    y = -1*branin(x)\n",
    "    return y"
   ]
  },
  {
   "cell_type": "code",
   "execution_count": 16,
   "metadata": {},
   "outputs": [],
   "source": [
    "def plot_neg_branin_with_points(X):\n",
    "    fig, ax = plt.subplots(figsize = (12,8))\n",
    "\n",
    "    x1_values = np.linspace(-5, 10, 100)\n",
    "    x2_values = np.linspace(0, 15, 100)\n",
    "    x_ax, y_ax = np.meshgrid(x1_values, x2_values)\n",
    "    vals = np.c_[x_ax.ravel(), y_ax.ravel()]\n",
    "    fx = np.reshape([neg_branin(val) for val in vals], (100, 100))\n",
    "\n",
    "    cm = ax.pcolormesh(x_ax, y_ax, fx)\n",
    "    ax.plot(X[:,0], X[:, 1], \"k.\", markersize=14, lw=0, label=\"points\")\n",
    "    \n",
    "    minima = np.array([[-np.pi, 12.275], [+np.pi, 2.275], [9.42478, 2.475]])\n",
    "    plt.plot(minima[:, 0], minima[:, 1], \"r.\", markersize=14, lw=0, label=\"Minima\")\n",
    "\n",
    "    cb = fig.colorbar(cm)\n",
    "    cb.set_label(\"f(x)\")\n",
    "\n",
    "    ax.legend(loc=\"best\", numpoints=1)\n",
    "\n",
    "    ax.set_xlabel(\"X1\")\n",
    "    ax.set_xlim([-5, 10])\n",
    "    ax.set_ylabel(\"X2\")\n",
    "    ax.set_ylim([0, 15])"
   ]
  },
  {
   "cell_type": "markdown",
   "metadata": {},
   "source": [
    "# Number test batches = 400"
   ]
  },
  {
   "cell_type": "code",
   "execution_count": 17,
   "metadata": {},
   "outputs": [
    {
     "name": "stdout",
     "output_type": "stream",
     "text": [
      "Time taken for queries10:0.28899105699383654\n",
      "Time taken for queries30:0.43415476800873876\n"
     ]
    },
    {
     "name": "stderr",
     "output_type": "stream",
     "text": [
      "/Users/nimishawalgaonkar/anaconda2/envs/scikit_optimize_develop/lib/python3.6/site-packages/numpy/core/fromnumeric.py:83: RuntimeWarning: invalid value encountered in reduce\n",
      "  return ufunc.reduce(obj, axis, dtype, out, **passkwargs)\n"
     ]
    },
    {
     "name": "stdout",
     "output_type": "stream",
     "text": [
      "Time taken for queries100:1.2843396429962013\n",
      "Time taken for queries300:5.7730046570068225\n"
     ]
    }
   ],
   "source": [
    "num_dim = 2\n",
    "num_test_batches = 400\n",
    "#num_sampled_points = 10\n",
    "num_iter = 1\n",
    "\n",
    "sampling_strategy = 'manual2'\n",
    "norm = False # we need to do unnormalization of LHS sampled points\n",
    "\n",
    "Xt = X_train\n",
    "Yt = Y_train\n",
    "\n",
    "bb = []\n",
    "sc = []\n",
    "bb_array = np.empty((0, 2))\n",
    "\n",
    "time_tk2 = []\n",
    "\n",
    "\n",
    "max_obj = np.max(Yt)\n",
    "# Train the model on the previous data\n",
    "OOPT = Optimizer(bounds)\n",
    "OOPT.tell(Xt.tolist(), Yt.tolist())\n",
    "model = opt.models[-1]\n",
    "batches = []\n",
    "cc_vec = np.zeros(num_test_batches)\n",
    "\n",
    "for num_sampled_points in num_queries:\n",
    "    \n",
    "    start = timeit.default_timer()\n",
    "\n",
    "    for i in range(num_test_batches):\n",
    "        \n",
    "        if sampling_strategy == 'manual2':\n",
    "            rel_ind = np.random.choice(X_space.shape[0], num_sampled_points, replace=False)\n",
    "            b = X_space[rel_ind,:]\n",
    "        else:\n",
    "            print (\"No such sampling strategy exists ..\")\n",
    "    \n",
    "        \n",
    "        b_model = opt.space.transform(b.tolist())\n",
    "        batches.append(b)\n",
    "        mean, covar = model.predict(b_model, return_cov=True)\n",
    "        cc = qEI.qEI_approx(mean, covar, max_obj)\n",
    "        cc_num = rpyn.ri2py(cc)\n",
    "        cc_vec[i] = cc_num\n",
    "\n",
    "        max_qEI_val = np.max(cc_vec)\n",
    "        max_qEI_val_ind = np.argmax(cc_vec)\n",
    "        best_batch = batches[max_qEI_val_ind]\n",
    "        bb.append(best_batch)\n",
    "\n",
    "\n",
    "    stop = timeit.default_timer()\n",
    "    t = stop - start\n",
    "    time_tk2.append(t)\n",
    "    print ('Time taken for queries' + str(num_sampled_points) + ':' + str(t))     "
   ]
  },
  {
   "cell_type": "code",
   "execution_count": 18,
   "metadata": {},
   "outputs": [],
   "source": [
    "time_tk2\n",
    "np.savetxt('t2.txt', time_tk2)"
   ]
  },
  {
   "cell_type": "markdown",
   "metadata": {},
   "source": [
    "# Number test batches = 4000"
   ]
  },
  {
   "cell_type": "code",
   "execution_count": 19,
   "metadata": {},
   "outputs": [
    {
     "name": "stdout",
     "output_type": "stream",
     "text": [
      "Time taken for queries10:3.5421703080064617\n",
      "Time taken for queries30:4.939788482006406\n"
     ]
    },
    {
     "name": "stderr",
     "output_type": "stream",
     "text": [
      "/Users/nimishawalgaonkar/anaconda2/envs/scikit_optimize_develop/lib/python3.6/site-packages/numpy/core/fromnumeric.py:83: RuntimeWarning: invalid value encountered in reduce\n",
      "  return ufunc.reduce(obj, axis, dtype, out, **passkwargs)\n"
     ]
    },
    {
     "name": "stdout",
     "output_type": "stream",
     "text": [
      "Time taken for queries100:13.344851308007492\n",
      "Time taken for queries300:65.68330043100286\n"
     ]
    }
   ],
   "source": [
    "num_dim = 2\n",
    "num_test_batches = 4000\n",
    "#num_sampled_points = 10\n",
    "num_iter = 1\n",
    "\n",
    "sampling_strategy = 'manual2'\n",
    "norm = False # we need to do unnormalization of LHS sampled points\n",
    "\n",
    "Xt = X_train\n",
    "Yt = Y_train\n",
    "\n",
    "bb = []\n",
    "sc = []\n",
    "bb_array = np.empty((0, 2))\n",
    "\n",
    "time_tk3 = []\n",
    "\n",
    "\n",
    "max_obj = np.max(Yt)\n",
    "# Train the model on the previous data\n",
    "OOPT = Optimizer(bounds)\n",
    "OOPT.tell(Xt.tolist(), Yt.tolist())\n",
    "model = opt.models[-1]\n",
    "batches = []\n",
    "cc_vec = np.zeros(num_test_batches)\n",
    "\n",
    "for num_sampled_points in num_queries:\n",
    "    \n",
    "    start = timeit.default_timer()\n",
    "\n",
    "    for i in range(num_test_batches):\n",
    "        \n",
    "        if sampling_strategy == 'manual2':\n",
    "            rel_ind = np.random.choice(X_space.shape[0], num_sampled_points, replace=False)\n",
    "            b = X_space[rel_ind,:]\n",
    "        else:\n",
    "            print (\"No such sampling strategy exists ..\")\n",
    "    \n",
    "        \n",
    "        b_model = opt.space.transform(b.tolist())\n",
    "        batches.append(b)\n",
    "        mean, covar = model.predict(b_model, return_cov=True)\n",
    "        cc = qEI.qEI_approx(mean, covar, max_obj)\n",
    "        cc_num = rpyn.ri2py(cc)\n",
    "        cc_vec[i] = cc_num\n",
    "\n",
    "        max_qEI_val = np.max(cc_vec)\n",
    "        max_qEI_val_ind = np.argmax(cc_vec)\n",
    "        best_batch = batches[max_qEI_val_ind]\n",
    "        bb.append(best_batch)\n",
    "\n",
    "\n",
    "    stop = timeit.default_timer()\n",
    "    t = stop - start\n",
    "    time_tk3.append(t)\n",
    "    print ('Time taken for queries' + str(num_sampled_points) + ':' + str(t))     "
   ]
  },
  {
   "cell_type": "code",
   "execution_count": 20,
   "metadata": {},
   "outputs": [],
   "source": [
    "np.savetxt('t3.txt', time_tk3)"
   ]
  },
  {
   "cell_type": "markdown",
   "metadata": {},
   "source": [
    "# Number test batches = 40000"
   ]
  },
  {
   "cell_type": "code",
   "execution_count": 21,
   "metadata": {},
   "outputs": [
    {
     "name": "stdout",
     "output_type": "stream",
     "text": [
      "Time taken for queries10:37.19413758799783\n"
     ]
    },
    {
     "name": "stderr",
     "output_type": "stream",
     "text": [
      "/Users/nimishawalgaonkar/anaconda2/envs/scikit_optimize_develop/lib/python3.6/site-packages/numpy/core/fromnumeric.py:83: RuntimeWarning: invalid value encountered in reduce\n",
      "  return ufunc.reduce(obj, axis, dtype, out, **passkwargs)\n"
     ]
    },
    {
     "name": "stdout",
     "output_type": "stream",
     "text": [
      "Time taken for queries30:44.21981861998211\n",
      "Time taken for queries100:108.43916345702019\n",
      "Time taken for queries300:652.4233856250066\n"
     ]
    }
   ],
   "source": [
    "num_dim = 2\n",
    "num_test_batches = 40000\n",
    "#num_sampled_points = 10\n",
    "num_iter = 1\n",
    "\n",
    "sampling_strategy = 'manual2'\n",
    "norm = False # we need to do unnormalization of LHS sampled points\n",
    "\n",
    "Xt = X_train\n",
    "Yt = Y_train\n",
    "\n",
    "bb = []\n",
    "sc = []\n",
    "bb_array = np.empty((0, 2))\n",
    "\n",
    "time_tk4 = []\n",
    "\n",
    "\n",
    "max_obj = np.max(Yt)\n",
    "# Train the model on the previous data\n",
    "OOPT = Optimizer(bounds)\n",
    "OOPT.tell(Xt.tolist(), Yt.tolist())\n",
    "model = opt.models[-1]\n",
    "batches = []\n",
    "cc_vec = np.zeros(num_test_batches)\n",
    "\n",
    "for num_sampled_points in num_queries:\n",
    "    \n",
    "    start = timeit.default_timer()\n",
    "\n",
    "    for i in range(num_test_batches):\n",
    "        \n",
    "        if sampling_strategy == 'manual2':\n",
    "            rel_ind = np.random.choice(X_space.shape[0], num_sampled_points, replace=False)\n",
    "            b = X_space[rel_ind,:]\n",
    "        else:\n",
    "            print (\"No such sampling strategy exists ..\")\n",
    "    \n",
    "        \n",
    "        b_model = opt.space.transform(b.tolist())\n",
    "        batches.append(b)\n",
    "        mean, covar = model.predict(b_model, return_cov=True)\n",
    "        cc = qEI.qEI_approx(mean, covar, max_obj)\n",
    "        cc_num = rpyn.ri2py(cc)\n",
    "        cc_vec[i] = cc_num\n",
    "\n",
    "        max_qEI_val = np.max(cc_vec)\n",
    "        max_qEI_val_ind = np.argmax(cc_vec)\n",
    "        best_batch = batches[max_qEI_val_ind]\n",
    "        bb.append(best_batch)\n",
    "\n",
    "\n",
    "    stop = timeit.default_timer()\n",
    "    t = stop - start\n",
    "    time_tk4.append(t)\n",
    "    print ('Time taken for queries' + str(num_sampled_points) + ':' + str(t))     "
   ]
  },
  {
   "cell_type": "code",
   "execution_count": 22,
   "metadata": {},
   "outputs": [],
   "source": [
    "np.savetxt('t4.txt', time_tk4)"
   ]
  },
  {
   "cell_type": "code",
   "execution_count": 23,
   "metadata": {},
   "outputs": [],
   "source": [
    "import matplotlib.pyplot as plot\n",
    "import seaborn as sns\n",
    "sns.set_context(\"talk\", font_scale=1.6)\n",
    "%matplotlib inline"
   ]
  },
  {
   "cell_type": "code",
   "execution_count": null,
   "metadata": {},
   "outputs": [],
   "source": []
  },
  {
   "cell_type": "code",
   "execution_count": 24,
   "metadata": {},
   "outputs": [],
   "source": [
    "time_tk = np.array(time_tk)\n",
    "time_tk2 = np.array(time_tk2)\n",
    "time_tk3 = np.array(time_tk3)\n",
    "time_tk4 = np.array(time_tk4)"
   ]
  },
  {
   "cell_type": "code",
   "execution_count": 25,
   "metadata": {},
   "outputs": [
    {
     "data": {
      "text/plain": [
       "Text(0,0.5,'Time taken in seconds')"
      ]
     },
     "execution_count": 25,
     "metadata": {},
     "output_type": "execute_result"
    },
    {
     "data": {
      "image/png": "[encoded data removed]",
      "text/plain": [
       "<Figure size 864x576 with 1 Axes>"
      ]
     },
     "metadata": {},
     "output_type": "display_data"
    }
   ],
   "source": [
    "plt.figure(figsize = (12,8))\n",
    "plt.plot(np.array(num_queries), time_tk, color = 'r', label=\"const liar\")\n",
    "plt.plot(np.array(num_queries), time_tk2, color = 'b', label = 'approx qei ; batch = 400')\n",
    "plt.plot(np.array(num_queries), time_tk3, color = 'g', label = 'approx qei ; batch = 4000')\n",
    "plt.plot(np.array(num_queries), time_tk4, color = 'k', label = 'approx qei ; batch = 40000')\n",
    "plt.legend(loc = 'best')\n",
    "plt.xlabel('Number of datapoints to query next')\n",
    "plt.ylabel('Time taken in seconds')\n"
   ]
  },
  {
   "cell_type": "code",
   "execution_count": 37,
   "metadata": {},
   "outputs": [
    {
     "name": "stdout",
     "output_type": "stream",
     "text": [
      "Time taken for queries10:0.30946043200674467\n",
      "Time taken for queries30:0.3768676559848245\n",
      "Time taken for queries100:0.8860014730016701\n",
      "Time taken for queries300:5.298739791993285\n",
      "Time taken for queries500:14.544195255992236\n",
      "Time taken for queries1000:71.03935275398544\n",
      "Time taken for queries1500:160.2248104850005\n"
     ]
    }
   ],
   "source": [
    "num_queries = [10,30,100, 300, 500, 1000, 1500]\n",
    "num_dim = 2\n",
    "num_test_batches = 400\n",
    "#num_sampled_points = 10\n",
    "num_iter = 1\n",
    "\n",
    "sampling_strategy = 'manual2'\n",
    "norm = False # we need to do unnormalization of LHS sampled points\n",
    "\n",
    "Xt = X_train\n",
    "Yt = Y_train\n",
    "\n",
    "bb = []\n",
    "sc = []\n",
    "bb_array = np.empty((0, 2))\n",
    "\n",
    "time_tk5 = []\n",
    "\n",
    "\n",
    "max_obj = np.max(Yt)\n",
    "# Train the model on the previous data\n",
    "OOPT = Optimizer(bounds)\n",
    "OOPT.tell(Xt.tolist(), Yt.tolist())\n",
    "model = opt.models[-1]\n",
    "batches = []\n",
    "cc_vec = np.zeros(num_test_batches)\n",
    "\n",
    "for num_sampled_points in num_queries:\n",
    "    \n",
    "    start = timeit.default_timer()\n",
    "\n",
    "    for i in range(num_test_batches):\n",
    "        \n",
    "        if sampling_strategy == 'manual2':\n",
    "            rel_ind = np.random.choice(X_space.shape[0], num_sampled_points, replace=False)\n",
    "            b = X_space[rel_ind,:]\n",
    "        else:\n",
    "            print (\"No such sampling strategy exists ..\")\n",
    "    \n",
    "        \n",
    "        b_model = opt.space.transform(b.tolist())\n",
    "        batches.append(b)\n",
    "        mean, covar = model.predict(b_model, return_cov=True)\n",
    "        cc = qEI.qEI_approx(mean, covar, max_obj)\n",
    "        cc_num = rpyn.ri2py(cc)\n",
    "        cc_vec[i] = cc_num\n",
    "\n",
    "        max_qEI_val = np.max(cc_vec)\n",
    "        max_qEI_val_ind = np.argmax(cc_vec)\n",
    "        best_batch = batches[max_qEI_val_ind]\n",
    "        bb.append(best_batch)\n",
    "\n",
    "\n",
    "    stop = timeit.default_timer()\n",
    "    t = stop - start\n",
    "    time_tk5.append(t)\n",
    "    print ('Time taken for queries' + str(num_sampled_points) + ':' + str(t))     "
   ]
  },
  {
   "cell_type": "code",
   "execution_count": 38,
   "metadata": {},
   "outputs": [
    {
     "name": "stdout",
     "output_type": "stream",
     "text": [
      "Time taken for queries10:3.7752664760046173\n"
     ]
    },
    {
     "name": "stderr",
     "output_type": "stream",
     "text": [
      "/Users/nimishawalgaonkar/anaconda2/envs/scikit_optimize_develop/lib/python3.6/site-packages/numpy/core/fromnumeric.py:83: RuntimeWarning: invalid value encountered in reduce\n",
      "  return ufunc.reduce(obj, axis, dtype, out, **passkwargs)\n"
     ]
    },
    {
     "name": "stdout",
     "output_type": "stream",
     "text": [
      "Time taken for queries30:4.402606233023107\n",
      "Time taken for queries100:10.98529665498063\n",
      "Time taken for queries300:55.7944174669974\n",
      "Time taken for queries500:141.3698136259918\n",
      "Time taken for queries1000:685.5698234839947\n",
      "Time taken for queries1500:1548.6983182879922\n"
     ]
    }
   ],
   "source": [
    "num_queries = [10,30,100, 300, 500, 1000, 1500]\n",
    "num_dim = 2\n",
    "num_test_batches = 4000\n",
    "#num_sampled_points = 10\n",
    "num_iter = 1\n",
    "\n",
    "sampling_strategy = 'manual2'\n",
    "norm = False # we need to do unnormalization of LHS sampled points\n",
    "\n",
    "Xt = X_train\n",
    "Yt = Y_train\n",
    "\n",
    "bb = []\n",
    "sc = []\n",
    "bb_array = np.empty((0, 2))\n",
    "\n",
    "time_tk6 = []\n",
    "\n",
    "\n",
    "max_obj = np.max(Yt)\n",
    "# Train the model on the previous data\n",
    "OOPT = Optimizer(bounds)\n",
    "OOPT.tell(Xt.tolist(), Yt.tolist())\n",
    "model = opt.models[-1]\n",
    "batches = []\n",
    "cc_vec = np.zeros(num_test_batches)\n",
    "\n",
    "for num_sampled_points in num_queries:\n",
    "    \n",
    "    start = timeit.default_timer()\n",
    "\n",
    "    for i in range(num_test_batches):\n",
    "        \n",
    "        if sampling_strategy == 'manual2':\n",
    "            rel_ind = np.random.choice(X_space.shape[0], num_sampled_points, replace=False)\n",
    "            b = X_space[rel_ind,:]\n",
    "        else:\n",
    "            print (\"No such sampling strategy exists ..\")\n",
    "    \n",
    "        \n",
    "        b_model = opt.space.transform(b.tolist())\n",
    "        batches.append(b)\n",
    "        mean, covar = model.predict(b_model, return_cov=True)\n",
    "        cc = qEI.qEI_approx(mean, covar, max_obj)\n",
    "        cc_num = rpyn.ri2py(cc)\n",
    "        cc_vec[i] = cc_num\n",
    "\n",
    "    max_qEI_val = np.max(cc_vec)\n",
    "    max_qEI_val_ind = np.argmax(cc_vec)\n",
    "    best_batch = batches[max_qEI_val_ind]\n",
    "    bb.append(best_batch)\n",
    "\n",
    "\n",
    "    stop = timeit.default_timer()\n",
    "    t = stop - start\n",
    "    time_tk6.append(t)\n",
    "    print ('Time taken for queries' + str(num_sampled_points) + ':' + str(t))     "
   ]
  },
  {
   "cell_type": "code",
   "execution_count": 40,
   "metadata": {},
   "outputs": [
    {
     "data": {
      "text/plain": [
       "<matplotlib.legend.Legend at 0x1a23ef9ba8>"
      ]
     },
     "execution_count": 40,
     "metadata": {},
     "output_type": "execute_result"
    },
    {
     "data": {
      "image/png": "[encoded data removed]",
      "text/plain": [
       "<Figure size 864x576 with 1 Axes>"
      ]
     },
     "metadata": {},
     "output_type": "display_data"
    }
   ],
   "source": [
    "plt.figure(figsize = (12,8))\n",
    "plt.plot(np.array(num_queries), time_tk5, color = 'b', label = 'approx qei ; batch = 400')\n",
    "plt.plot(np.array(num_queries), time_tk6, color = 'g', label = 'approx qei ; batch = 4000')\n",
    "plt.legend(loc = 'best')"
   ]
  },
  {
   "cell_type": "code",
   "execution_count": null,
   "metadata": {},
   "outputs": [],
   "source": []
  }
 ],
 "metadata": {
  "kernelspec": {
   "display_name": "Python 3",
   "language": "python",
   "name": "python3"
  },
  "language_info": {
   "codemirror_mode": {
    "name": "ipython",
    "version": 3
   },
   "file_extension": ".py",
   "mimetype": "text/x-python",
   "name": "python",
   "nbconvert_exporter": "python",
   "pygments_lexer": "ipython3",
   "version": "3.6.6"
  }
 },
 "nbformat": 4,
 "nbformat_minor": 2
}
