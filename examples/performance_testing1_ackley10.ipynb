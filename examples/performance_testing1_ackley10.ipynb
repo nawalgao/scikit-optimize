{
 "cells": [
  {
   "cell_type": "code",
   "execution_count": 1,
   "metadata": {},
   "outputs": [
    {
     "name": "stderr",
     "output_type": "stream",
     "text": [
      "/Users/nimishawalgaonkar/anaconda2/envs/scikit_optimize_develop/lib/python3.6/site-packages/sklearn/ensemble/weight_boosting.py:29: DeprecationWarning: numpy.core.umath_tests is an internal NumPy module and should not be imported. It will be removed in a future NumPy release.\n",
      "  from numpy.core.umath_tests import inner1d\n",
      "/Users/nimishawalgaonkar/anaconda2/envs/scikit_optimize_develop/lib/python3.6/importlib/_bootstrap.py:219: RuntimeWarning: numpy.dtype size changed, may indicate binary incompatibility. Expected 96, got 88\n",
      "  return f(*args, **kwds)\n",
      "Using TensorFlow backend.\n"
     ]
    }
   ],
   "source": [
    "import numpy as np\n",
    "np.random.seed(123)\n",
    "%matplotlib inline\n",
    "import seaborn as sns\n",
    "sns.set_context(\"talk\", font_scale=1.2)\n",
    "import matplotlib.pyplot as plt\n",
    "from skopt import Optimizer\n",
    "from skopt.benchmarks2 import ackley\n",
    "from pyDOE import *"
   ]
  },
  {
   "cell_type": "code",
   "execution_count": 2,
   "metadata": {},
   "outputs": [],
   "source": [
    "from scipy.spatial import distance\n",
    "def euclidean(p_pred, p_act):\n",
    "    \"\"\"\n",
    "    Euclidean distance\n",
    "    \"\"\"\n",
    "    dst = distance.euclidean(p_pred, p_act)\n",
    "    return dst"
   ]
  },
  {
   "cell_type": "code",
   "execution_count": 3,
   "metadata": {},
   "outputs": [],
   "source": [
    "def neg_ackley(X_train):\n",
    "    Y = ackley(X_train)\n",
    "    return Y"
   ]
  },
  {
   "cell_type": "code",
   "execution_count": 4,
   "metadata": {},
   "outputs": [],
   "source": [
    "ntrain = 20\n",
    "ndim = 10\n",
    "iterations = 20"
   ]
  },
  {
   "cell_type": "code",
   "execution_count": 5,
   "metadata": {},
   "outputs": [],
   "source": [
    "X_train_norm = lhs(ndim, samples= ntrain, criterion='maximin') # Initial training points\n",
    "X_train = np.zeros(X_train_norm.shape)\n",
    "X_train = X_train_norm*45 - 15.\n",
    "Y_train = ackley(X_train)\n",
    "Y_train_neg = neg_ackley(X_train)"
   ]
  },
  {
   "cell_type": "code",
   "execution_count": 6,
   "metadata": {},
   "outputs": [],
   "source": [
    "bounds = [(-15.0, 30.0)]*ndim\n",
    "optimum = np.zeros(ndim)"
   ]
  },
  {
   "cell_type": "code",
   "execution_count": 7,
   "metadata": {},
   "outputs": [],
   "source": [
    "qei_args_dict = {'num_sampled_points': 10,\n",
    "               'num_batches_eval' : 50000,\n",
    "               'strategy_batch_selection' : 'random'}"
   ]
  },
  {
   "cell_type": "markdown",
   "metadata": {},
   "source": [
    "# qEI"
   ]
  },
  {
   "cell_type": "markdown",
   "metadata": {},
   "source": [
    "# 1. GP"
   ]
  },
  {
   "cell_type": "code",
   "execution_count": 8,
   "metadata": {
    "scrolled": true
   },
   "outputs": [
    {
     "name": "stdout",
     "output_type": "stream",
     "text": [
      "qEI aquisition function (parallel BGO) is still under development\n",
      "----------------------------------------\n",
      "Right now, it can only be used with sampling acq_optimizer\n",
      "we are here :: qEI or RuiEI\n",
      "When tell() is called with qEI or RuiEI aquisition function ,we are just fitting the model and nothing more.\n"
     ]
    },
    {
     "data": {
      "text/plain": [
       "          fun: 19.18079192651077\n",
       "    func_vals: array([20.8135378 , 20.73157896, 19.55827038, 20.59540677, 20.48518173,\n",
       "       21.16289746, 20.784845  , 21.42309229, 19.586919  , 19.3981793 ,\n",
       "       19.18079193, 19.97923932, 20.29610185, 21.19607857, 20.71478884,\n",
       "       19.40796473, 20.65223485, 20.15420189, 20.86992853, 20.68914251])\n",
       "       models: [GaussianProcessRegressor(alpha=1e-10, copy_X_train=True,\n",
       "             kernel=1**2 * Matern(length_scale=[1, 1, 1, 1, 1, 1, 1, 1, 1, 1], nu=2.5) + WhiteKernel(noise_level=1),\n",
       "             n_restarts_optimizer=2, noise='gaussian', normalize_y=True,\n",
       "             optimizer='fmin_l_bfgs_b', random_state=843828734)]\n",
       " random_state: <mtrand.RandomState object at 0x1c2e85e090>\n",
       "        space: Space([Real(low=-15.0, high=30.0, prior='uniform', transform='normalize'),\n",
       "       Real(low=-15.0, high=30.0, prior='uniform', transform='normalize'),\n",
       "       Real(low=-15.0, high=30.0, prior='uniform', transform='normalize'),\n",
       "       Real(low=-15.0, high=30.0, prior='uniform', transform='normalize'),\n",
       "       Real(low=-15.0, high=30.0, prior='uniform', transform='normalize'),\n",
       "       Real(low=-15.0, high=30.0, prior='uniform', transform='normalize'),\n",
       "       Real(low=-15.0, high=30.0, prior='uniform', transform='normalize'),\n",
       "       Real(low=-15.0, high=30.0, prior='uniform', transform='normalize'),\n",
       "       Real(low=-15.0, high=30.0, prior='uniform', transform='normalize'),\n",
       "       Real(low=-15.0, high=30.0, prior='uniform', transform='normalize')])\n",
       "        specs: None\n",
       "            x: [26.264574421599775, 12.551543831013294, -1.026031588003356, 1.8387503378279106, -7.028275239273314, 0.4029431414315887, 9.960210904712422, -3.8541814815937805, -4.519916085412937, -6.569930330752882]\n",
       "      x_iters: [[18.86677713105197, 19.412190627496855, 28.082376398189147, 12.054333913013494, -9.143402557409422, 19.045008986593565, 27.826395681288496, -10.591473243167481, 18.14835273890909, 11.238862215455196], [-10.23585351631915, 14.77420476753474, 26.49297930478381, -1.9298312863984837, 26.394519116175346, 0.83172752479196, 8.452915610197337, 15.835751731999945, 10.673097864530778, 4.835923701750886], [-0.8921033982817477, -9.8226299440473, 2.341008885602271, 23.93770437320952, 3.814088847445557, 14.080241740785326, -11.15334773574203, 11.634298743975851, 15.036416686631902, 14.874203910016618], [-4.250019710501908, -3.290315734841027, -10.173156598566479, 23.06881304923713, 6.725826981499068, 24.4146527867129, 20.12740356380383, 1.4986956383893677, 13.22143595552416, 18.0257144585674], [28.24635746506621, 11.815718285907995, -6.990589734799396, -12.014025241615123, -2.231170964453913, -3.7364372572800786, 21.478870871780586, 29.960900816671177, 5.843123278765123, 8.131073206455326], [15.71734621603412, 26.838916221782135, 24.208715224588296, 7.731479742107606, -10.764878772307613, -10.899816416871618, -0.4733911521564824, 25.179716521382325, 25.32536029783096, -2.6448214178071865], [-7.624446914075918, -12.28624096039447, 22.9861042155691, 10.373029027603508, 13.596117807907138, 28.926507001991745, -9.229716729158675, 8.336981511579626, -7.726455647491018, -12.198675663249729], [25.261197077715693, 28.475974045028217, -14.122782981761342, 3.3713994963630824, 20.573655276608335, -5.465674005026402, -12.89024619722116, 21.88268415993884, 9.453708097888004, 27.882613826856804], [-12.13385502378058, 4.376948337873536, -4.153708005724756, -7.496618071049206, 10.927846983731296, -9.680578238047993, 4.146153886538006, 12.84399558321942, -8.976961815781289, 25.722415390257723], [14.122201256573593, -5.549097041334029, 12.02960962040444, -13.301706566461238, 18.21047308031776, 4.942545040965971, 14.787262663820922, 3.6680284111279278, 2.881018964791725, 13.932562884558244], [26.264574421599775, 12.551543831013294, -1.026031588003356, 1.8387503378279106, -7.028275239273314, 0.4029431414315887, 9.960210904712422, -3.8541814815937805, -4.519916085412937, -6.569930330752882], [18.74756641343879, 16.591386280256536, 17.953100673787, -4.953896576873639, -1.0094202610136804, -14.4550054353924, -5.251694393135228, -2.9697118795194903, 0.5990062083183361, 19.24985339059147], [9.796296354135656, 7.437221051762982, 3.463795956641764, 16.587074066277555, 1.7494973879879545, 26.575000608844228, 16.70212170091282, -0.8704454585195158, -11.799277455506868, -0.7927094543343056], [-14.245026284536607, -6.581039050174027, -2.690950315995279, 27.598895698394422, 21.934882989384683, 15.628535136320227, 25.05905932875033, 20.97348362316177, 27.733076480831492, 2.139734948508057], [-2.201157727753582, 0.8476907046831261, 15.992805460171294, 6.169485300928002, 29.503301908933828, 6.162719696515264, 26.888668699244853, 26.410663843440936, -14.21520603880427, -10.015112743629764], [3.829968393782085, -0.6890466312291519, 11.69508062454062, -0.5522998713674703, 25.312909766863747, -6.688534418568954, 5.829033237916285, -6.943395269862478, 5.138066156405589, -13.572064341919393], [5.97669137130546, -14.21347598693799, 7.4715399701183784, 28.389493277696005, -4.245525010299874, 9.995448443844715, 13.051493114278966, 5.435968520999705, 20.780752211847457, 23.932606651574424], [2.7968579895975125, 24.367142937844008, -11.993236059757212, 19.395982401882364, 14.622509934139604, 17.017702404371157, 0.8415371786056074, -10.069494628378749, -1.6251775358581693, 5.860829670396928], [8.396937929287066, 7.915993569806943, 9.646091407457572, 14.55288036900706, -14.169094857535542, 22.67538478985265, -3.5533325790311476, 17.95901185179536, 29.136014574524957, -4.261024881371531], [21.000184247130754, 23.20634401963948, 19.764948778994714, -10.292581280921167, 8.906719199562303, 8.493819123103997, -6.197702726675335, -12.95697506175816, 22.915983115621152, 21.28712750449055]]"
      ]
     },
     "execution_count": 8,
     "metadata": {},
     "output_type": "execute_result"
    }
   ],
   "source": [
    "opt = Optimizer(bounds, base_estimator=\"gp\", acq_func = 'qEI',\n",
    "                acq_optimizer = 'sampling', random_state = 123)\n",
    "opt.tell(X_train.tolist(), Y_train_neg.tolist())"
   ]
  },
  {
   "cell_type": "code",
   "execution_count": 9,
   "metadata": {
    "scrolled": true
   },
   "outputs": [
    {
     "name": "stdout",
     "output_type": "stream",
     "text": [
      "max\n",
      "0.20150385379977465\n",
      "we are here :: qEI or RuiEI\n",
      "When tell() is called with qEI or RuiEI aquisition function ,we are just fitting the model and nothing more.\n",
      "Time taken for queries:46.816839542007074\n",
      "max\n",
      "0.3074549102627451\n",
      "we are here :: qEI or RuiEI\n",
      "When tell() is called with qEI or RuiEI aquisition function ,we are just fitting the model and nothing more.\n",
      "Time taken for queries:64.65556325402576\n",
      "max\n",
      "0.3415774161839238\n",
      "we are here :: qEI or RuiEI\n",
      "When tell() is called with qEI or RuiEI aquisition function ,we are just fitting the model and nothing more.\n",
      "Time taken for queries:65.42446603195276\n",
      "max\n",
      "0.31121477938310704\n",
      "we are here :: qEI or RuiEI\n",
      "When tell() is called with qEI or RuiEI aquisition function ,we are just fitting the model and nothing more.\n",
      "Time taken for queries:67.41733157797717\n",
      "max\n",
      "0.4084829495345659\n",
      "we are here :: qEI or RuiEI\n",
      "When tell() is called with qEI or RuiEI aquisition function ,we are just fitting the model and nothing more.\n",
      "Time taken for queries:73.21133244899102\n",
      "max\n",
      "0.1956477904050935\n",
      "we are here :: qEI or RuiEI\n",
      "When tell() is called with qEI or RuiEI aquisition function ,we are just fitting the model and nothing more.\n",
      "Time taken for queries:75.75786631397204\n",
      "max\n",
      "0.2639400417439077\n",
      "we are here :: qEI or RuiEI\n",
      "When tell() is called with qEI or RuiEI aquisition function ,we are just fitting the model and nothing more.\n",
      "Time taken for queries:84.15640722302487\n",
      "max\n",
      "0.16750693360576818\n",
      "we are here :: qEI or RuiEI\n",
      "When tell() is called with qEI or RuiEI aquisition function ,we are just fitting the model and nothing more.\n",
      "Time taken for queries:92.64544868300436\n",
      "max\n",
      "0.18310562815186415\n",
      "we are here :: qEI or RuiEI\n",
      "When tell() is called with qEI or RuiEI aquisition function ,we are just fitting the model and nothing more.\n",
      "Time taken for queries:107.71062406897545\n",
      "max\n",
      "0.1865202072794645\n",
      "we are here :: qEI or RuiEI\n",
      "When tell() is called with qEI or RuiEI aquisition function ,we are just fitting the model and nothing more.\n",
      "Time taken for queries:127.6131905639777\n",
      "max\n",
      "0.11293423933721769\n",
      "we are here :: qEI or RuiEI\n",
      "When tell() is called with qEI or RuiEI aquisition function ,we are just fitting the model and nothing more.\n",
      "Time taken for queries:140.3775190950255\n",
      "max\n",
      "0.15246794472028924\n",
      "we are here :: qEI or RuiEI\n",
      "When tell() is called with qEI or RuiEI aquisition function ,we are just fitting the model and nothing more.\n",
      "Time taken for queries:169.12959101097658\n",
      "max\n",
      "0.1260533943224047\n",
      "we are here :: qEI or RuiEI\n",
      "When tell() is called with qEI or RuiEI aquisition function ,we are just fitting the model and nothing more.\n",
      "Time taken for queries:197.62619368900778\n",
      "max\n",
      "0.11362697266129729\n",
      "we are here :: qEI or RuiEI\n",
      "When tell() is called with qEI or RuiEI aquisition function ,we are just fitting the model and nothing more.\n",
      "Time taken for queries:230.87966302997665\n",
      "max\n",
      "0.09747332281678212\n",
      "we are here :: qEI or RuiEI\n",
      "When tell() is called with qEI or RuiEI aquisition function ,we are just fitting the model and nothing more.\n",
      "Time taken for queries:281.39498369803187\n",
      "max\n",
      "0.12602024847508986\n",
      "we are here :: qEI or RuiEI\n",
      "When tell() is called with qEI or RuiEI aquisition function ,we are just fitting the model and nothing more.\n",
      "Time taken for queries:326.85225771495607\n",
      "max\n",
      "0.13492257834361965\n",
      "we are here :: qEI or RuiEI\n",
      "When tell() is called with qEI or RuiEI aquisition function ,we are just fitting the model and nothing more.\n",
      "Time taken for queries:345.3187254410004\n",
      "max\n",
      "0.0876742518421878\n",
      "we are here :: qEI or RuiEI\n",
      "When tell() is called with qEI or RuiEI aquisition function ,we are just fitting the model and nothing more.\n",
      "Time taken for queries:408.3304265959887\n",
      "max\n",
      "0.08427675703921977\n",
      "we are here :: qEI or RuiEI\n",
      "When tell() is called with qEI or RuiEI aquisition function ,we are just fitting the model and nothing more.\n",
      "Time taken for queries:465.24591600202257\n",
      "max\n",
      "0.07718703156270479\n",
      "we are here :: qEI or RuiEI\n",
      "When tell() is called with qEI or RuiEI aquisition function ,we are just fitting the model and nothing more.\n",
      "Time taken for queries:518.9112731929636\n"
     ]
    }
   ],
   "source": [
    "import timeit\n",
    "Xx = X_train\n",
    "Yy = Y_train\n",
    "all_points = []\n",
    "time_tk = []\n",
    "best_iter = []\n",
    "for i in range(iterations):\n",
    "    start = timeit.default_timer()\n",
    "    next_points = opt.ask(additional_acq_func_kwargs = qei_args_dict)\n",
    "    stop = timeit.default_timer()\n",
    "    t = stop - start\n",
    "    time_tk.append(t)\n",
    "    next_obj = neg_ackley(np.array(next_points))\n",
    "    cur_best = np.abs(np.max(next_obj))\n",
    "    best_iter.append(cur_best)\n",
    "    Xx = np.vstack([Xx, np.array(next_points)])\n",
    "    Yy = np.append(Yy, next_obj)\n",
    "    opt.tell(Xx.tolist(), Yy.tolist())\n",
    "    print ('Time taken for queries' + ':' + str(t)) \n",
    "    all_points.append(next_points)\n",
    "    \n",
    "gp_best = best_iter\n",
    "gp_time = time_tk\n",
    "gp_points = all_points"
   ]
  },
  {
   "cell_type": "markdown",
   "metadata": {},
   "source": [
    "# 2. RF"
   ]
  },
  {
   "cell_type": "code",
   "execution_count": 10,
   "metadata": {},
   "outputs": [
    {
     "name": "stdout",
     "output_type": "stream",
     "text": [
      "qEI aquisition function (parallel BGO) is still under development\n",
      "----------------------------------------\n",
      "Right now, it can only be used with sampling acq_optimizer\n",
      "we are here :: qEI or RuiEI\n",
      "When tell() is called with qEI or RuiEI aquisition function ,we are just fitting the model and nothing more.\n",
      "max\n",
      "0.09813748214125084\n",
      "we are here :: qEI or RuiEI\n",
      "When tell() is called with qEI or RuiEI aquisition function ,we are just fitting the model and nothing more.\n",
      "Time taken for queries:426.4780464649666\n",
      "max\n",
      "0.1400578458984576\n",
      "we are here :: qEI or RuiEI\n",
      "When tell() is called with qEI or RuiEI aquisition function ,we are just fitting the model and nothing more.\n",
      "Time taken for queries:460.99478623102186\n",
      "max\n",
      "0.15764532773203754\n",
      "we are here :: qEI or RuiEI\n",
      "When tell() is called with qEI or RuiEI aquisition function ,we are just fitting the model and nothing more.\n",
      "Time taken for queries:435.18819660000736\n",
      "max\n",
      "0.04204530607625756\n",
      "we are here :: qEI or RuiEI\n",
      "When tell() is called with qEI or RuiEI aquisition function ,we are just fitting the model and nothing more.\n",
      "Time taken for queries:438.2877423699829\n",
      "max\n",
      "0.09285354125210432\n",
      "we are here :: qEI or RuiEI\n",
      "When tell() is called with qEI or RuiEI aquisition function ,we are just fitting the model and nothing more.\n",
      "Time taken for queries:447.72186703199986\n",
      "max\n",
      "0.07717313164368633\n",
      "we are here :: qEI or RuiEI\n",
      "When tell() is called with qEI or RuiEI aquisition function ,we are just fitting the model and nothing more.\n",
      "Time taken for queries:445.5461231250083\n",
      "max\n",
      "0.11229678731918824\n",
      "we are here :: qEI or RuiEI\n",
      "When tell() is called with qEI or RuiEI aquisition function ,we are just fitting the model and nothing more.\n",
      "Time taken for queries:443.0934563030023\n",
      "max\n",
      "0.18944936961893077\n",
      "we are here :: qEI or RuiEI\n",
      "When tell() is called with qEI or RuiEI aquisition function ,we are just fitting the model and nothing more.\n",
      "Time taken for queries:447.42000388895394\n",
      "max\n",
      "0.2318079896287344\n",
      "we are here :: qEI or RuiEI\n",
      "When tell() is called with qEI or RuiEI aquisition function ,we are just fitting the model and nothing more.\n",
      "Time taken for queries:441.1009171779733\n",
      "max\n",
      "0.20534019302034778\n",
      "we are here :: qEI or RuiEI\n",
      "When tell() is called with qEI or RuiEI aquisition function ,we are just fitting the model and nothing more.\n",
      "Time taken for queries:451.2074758200324\n",
      "max\n",
      "0.15733677040469018\n",
      "we are here :: qEI or RuiEI\n",
      "When tell() is called with qEI or RuiEI aquisition function ,we are just fitting the model and nothing more.\n",
      "Time taken for queries:440.6469401959912\n",
      "max\n",
      "0.1690455589308506\n",
      "we are here :: qEI or RuiEI\n",
      "When tell() is called with qEI or RuiEI aquisition function ,we are just fitting the model and nothing more.\n",
      "Time taken for queries:438.25935649801977\n",
      "max\n",
      "0.13758604887839354\n",
      "we are here :: qEI or RuiEI\n",
      "When tell() is called with qEI or RuiEI aquisition function ,we are just fitting the model and nothing more.\n",
      "Time taken for queries:433.4765236969688\n",
      "max\n",
      "0.1493013070312621\n",
      "we are here :: qEI or RuiEI\n",
      "When tell() is called with qEI or RuiEI aquisition function ,we are just fitting the model and nothing more.\n",
      "Time taken for queries:451.238280080026\n",
      "max\n",
      "0.06556538116690191\n",
      "we are here :: qEI or RuiEI\n",
      "When tell() is called with qEI or RuiEI aquisition function ,we are just fitting the model and nothing more.\n",
      "Time taken for queries:420.66290042799665\n",
      "max\n",
      "0.059345963788199896\n",
      "we are here :: qEI or RuiEI\n",
      "When tell() is called with qEI or RuiEI aquisition function ,we are just fitting the model and nothing more.\n",
      "Time taken for queries:432.97403415699955\n",
      "max\n",
      "0.0534325983059567\n",
      "we are here :: qEI or RuiEI\n",
      "When tell() is called with qEI or RuiEI aquisition function ,we are just fitting the model and nothing more.\n",
      "Time taken for queries:429.83666622801684\n",
      "max\n",
      "0.061877489858595425\n",
      "we are here :: qEI or RuiEI\n",
      "When tell() is called with qEI or RuiEI aquisition function ,we are just fitting the model and nothing more.\n",
      "Time taken for queries:423.59379298298154\n",
      "max\n",
      "0.06388764315077111\n",
      "we are here :: qEI or RuiEI\n",
      "When tell() is called with qEI or RuiEI aquisition function ,we are just fitting the model and nothing more.\n",
      "Time taken for queries:417.6473239339539\n",
      "max\n",
      "0.08151352030367676\n",
      "we are here :: qEI or RuiEI\n",
      "When tell() is called with qEI or RuiEI aquisition function ,we are just fitting the model and nothing more.\n",
      "Time taken for queries:425.6261258510058\n"
     ]
    }
   ],
   "source": [
    "opt = Optimizer(bounds, base_estimator=\"rf\", acq_func = 'qEI',\n",
    "                acq_optimizer = 'sampling', random_state = 123)\n",
    "opt.tell(X_train.tolist(), Y_train.tolist())\n",
    "\n",
    "import timeit\n",
    "Xx = X_train\n",
    "Yy = Y_train\n",
    "all_points = []\n",
    "time_tk = []\n",
    "best_iter = []\n",
    "for i in range(iterations):\n",
    "    start = timeit.default_timer()\n",
    "    next_points = opt.ask(additional_acq_func_kwargs = qei_args_dict)\n",
    "    stop = timeit.default_timer()\n",
    "    t = stop - start\n",
    "    time_tk.append(t)\n",
    "    next_obj = neg_ackley(np.array(next_points))\n",
    "    cur_best = np.abs(np.max(next_obj))\n",
    "    best_iter.append(cur_best)\n",
    "    Xx = np.vstack([Xx, np.array(next_points)])\n",
    "    Yy = np.append(Yy, next_obj)\n",
    "    opt.tell(Xx.tolist(), Yy.tolist())\n",
    "    print ('Time taken for queries' + ':' + str(t)) \n",
    "    all_points.append(next_points)\n",
    "    \n",
    "rf_best = best_iter\n",
    "rf_time = time_tk\n",
    "rf_points = all_points"
   ]
  },
  {
   "cell_type": "code",
   "execution_count": 11,
   "metadata": {},
   "outputs": [
    {
     "data": {
      "text/plain": [
       "[426.4780464649666,\n",
       " 460.99478623102186,\n",
       " 435.18819660000736,\n",
       " 438.2877423699829,\n",
       " 447.72186703199986,\n",
       " 445.5461231250083,\n",
       " 443.0934563030023,\n",
       " 447.42000388895394,\n",
       " 441.1009171779733,\n",
       " 451.2074758200324,\n",
       " 440.6469401959912,\n",
       " 438.25935649801977,\n",
       " 433.4765236969688,\n",
       " 451.238280080026,\n",
       " 420.66290042799665,\n",
       " 432.97403415699955,\n",
       " 429.83666622801684,\n",
       " 423.59379298298154,\n",
       " 417.6473239339539,\n",
       " 425.6261258510058]"
      ]
     },
     "execution_count": 11,
     "metadata": {},
     "output_type": "execute_result"
    }
   ],
   "source": [
    "rf_time"
   ]
  },
  {
   "cell_type": "code",
   "execution_count": 12,
   "metadata": {},
   "outputs": [
    {
     "data": {
      "text/plain": [
       "[46.816839542007074,\n",
       " 64.65556325402576,\n",
       " 65.42446603195276,\n",
       " 67.41733157797717,\n",
       " 73.21133244899102,\n",
       " 75.75786631397204,\n",
       " 84.15640722302487,\n",
       " 92.64544868300436,\n",
       " 107.71062406897545,\n",
       " 127.6131905639777,\n",
       " 140.3775190950255,\n",
       " 169.12959101097658,\n",
       " 197.62619368900778,\n",
       " 230.87966302997665,\n",
       " 281.39498369803187,\n",
       " 326.85225771495607,\n",
       " 345.3187254410004,\n",
       " 408.3304265959887,\n",
       " 465.24591600202257,\n",
       " 518.9112731929636]"
      ]
     },
     "execution_count": 12,
     "metadata": {},
     "output_type": "execute_result"
    }
   ],
   "source": [
    "gp_time"
   ]
  },
  {
   "cell_type": "code",
   "execution_count": 13,
   "metadata": {},
   "outputs": [
    {
     "data": {
      "text/plain": [
       "[21.335445367810415,\n",
       " 21.32143275398116,\n",
       " 21.641685302551526,\n",
       " 21.42653137331565,\n",
       " 21.10673227940351,\n",
       " 21.572926586876125,\n",
       " 21.354543998510444,\n",
       " 21.342593505087894,\n",
       " 21.303242539423824,\n",
       " 21.590540250684786,\n",
       " 21.244848628295973,\n",
       " 21.16736515338986,\n",
       " 21.544422905536475,\n",
       " 21.855154625110124,\n",
       " 21.680714026703164,\n",
       " 21.19951139305205,\n",
       " 21.234073205988704,\n",
       " 21.30125031423243,\n",
       " 21.041017924247072,\n",
       " 21.678634002114695]"
      ]
     },
     "execution_count": 13,
     "metadata": {},
     "output_type": "execute_result"
    }
   ],
   "source": [
    "rf_best"
   ]
  },
  {
   "cell_type": "code",
   "execution_count": 14,
   "metadata": {},
   "outputs": [
    {
     "data": {
      "text/plain": [
       "[21.40693806037412,\n",
       " 21.491513917562916,\n",
       " 21.35483409957121,\n",
       " 21.672436936392575,\n",
       " 21.774619296244335,\n",
       " 21.50491414389008,\n",
       " 21.840220781486476,\n",
       " 21.671929963909776,\n",
       " 21.402393182956736,\n",
       " 21.658153521066243,\n",
       " 21.593891060568964,\n",
       " 21.507437769102566,\n",
       " 21.46930999166818,\n",
       " 21.414688924539483,\n",
       " 21.52377378066615,\n",
       " 21.207125871754656,\n",
       " 21.63575086578913,\n",
       " 21.616879828319764,\n",
       " 21.46060082613281,\n",
       " 21.513966446822085]"
      ]
     },
     "execution_count": 14,
     "metadata": {},
     "output_type": "execute_result"
    }
   ],
   "source": [
    "gp_best"
   ]
  }
 ],
 "metadata": {
  "kernelspec": {
   "display_name": "Python 3",
   "language": "python",
   "name": "python3"
  },
  "language_info": {
   "codemirror_mode": {
    "name": "ipython",
    "version": 3
   },
   "file_extension": ".py",
   "mimetype": "text/x-python",
   "name": "python",
   "nbconvert_exporter": "python",
   "pygments_lexer": "ipython3",
   "version": "3.6.6"
  }
 },
 "nbformat": 4,
 "nbformat_minor": 2
}
