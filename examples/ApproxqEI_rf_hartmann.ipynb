{
 "cells": [
  {
   "cell_type": "code",
   "execution_count": 8,
   "metadata": {},
   "outputs": [
    {
     "data": {
      "text/plain": [
       "<Figure size 432x288 with 0 Axes>"
      ]
     },
     "metadata": {},
     "output_type": "display_data"
    }
   ],
   "source": [
    "import numpy as np\n",
    "np.random.seed(123)\n",
    "\n",
    "%matplotlib inline\n",
    "import matplotlib.pyplot as plt\n",
    "plt.set_cmap(\"viridis\")\n",
    "\n",
    "from skopt.benchmarks import hart6\n",
    "from skopt import Optimizer\n",
    "from pyDOE import *"
   ]
  },
  {
   "cell_type": "code",
   "execution_count": 9,
   "metadata": {},
   "outputs": [],
   "source": [
    "def neg_hart6(X_train):\n",
    "    Y_train = np.array([])\n",
    "    for x in X_train:\n",
    "        y = -1*hart6(x)\n",
    "        Y_train = np.append(Y_train, y)\n",
    "    return Y_train"
   ]
  },
  {
   "cell_type": "code",
   "execution_count": 10,
   "metadata": {},
   "outputs": [],
   "source": [
    "ntrain = 50 # number of initial training points\n",
    "d = 2 # number of dimensions of the input features\n",
    "\n",
    "X_train = lhs(6, samples= ntrain, criterion='maximin') # Initial training points\n",
    "Y_train = neg_hart6(X_train)\n",
    "bounds = [(0, 1.0), (0, 1.0), (0, 1.0), (0, 1.0), (0, 1.0), (0, 1.0)]"
   ]
  },
  {
   "cell_type": "code",
   "execution_count": 11,
   "metadata": {},
   "outputs": [],
   "source": [
    "Xx = X_train\n",
    "Yy = Y_train"
   ]
  },
  {
   "cell_type": "code",
   "execution_count": 12,
   "metadata": {},
   "outputs": [
    {
     "name": "stdout",
     "output_type": "stream",
     "text": [
      "qEI aquisition function (parallel BGO) is still under development\n",
      "----------------------------------------\n",
      "Right now, it can only be used with sampling acq_optimizer\n"
     ]
    }
   ],
   "source": [
    "opt = Optimizer(bounds, base_estimator=\"rf\", acq_func = 'qEI',\n",
    "                acq_optimizer = 'sampling', random_state = 123, )"
   ]
  },
  {
   "cell_type": "code",
   "execution_count": 13,
   "metadata": {},
   "outputs": [],
   "source": [
    "qei_args_dict = {'num_sampled_points': 3,\n",
    "               'num_batches_eval' : 4000,\n",
    "               'strategy_batch_selection' : 'random'}"
   ]
  },
  {
   "cell_type": "code",
   "execution_count": 14,
   "metadata": {},
   "outputs": [
    {
     "name": "stdout",
     "output_type": "stream",
     "text": [
      "we are here :: qEI\n",
      "When tell() is called with qEI aquisition function ,we are just fitting the model and nothing more.\n",
      "we are here :: qEI\n",
      "When tell() is called with qEI aquisition function ,we are just fitting the model and nothing more.\n",
      "we are here :: qEI\n",
      "When tell() is called with qEI aquisition function ,we are just fitting the model and nothing more.\n",
      "we are here :: qEI\n",
      "When tell() is called with qEI aquisition function ,we are just fitting the model and nothing more.\n",
      "we are here :: qEI\n",
      "When tell() is called with qEI aquisition function ,we are just fitting the model and nothing more.\n",
      "we are here :: qEI\n",
      "When tell() is called with qEI aquisition function ,we are just fitting the model and nothing more.\n",
      "we are here :: qEI\n",
      "When tell() is called with qEI aquisition function ,we are just fitting the model and nothing more.\n",
      "we are here :: qEI\n",
      "When tell() is called with qEI aquisition function ,we are just fitting the model and nothing more.\n",
      "we are here :: qEI\n",
      "When tell() is called with qEI aquisition function ,we are just fitting the model and nothing more.\n",
      "we are here :: qEI\n",
      "When tell() is called with qEI aquisition function ,we are just fitting the model and nothing more.\n",
      "389.8701867729999\n"
     ]
    }
   ],
   "source": [
    "import timeit\n",
    "iteration = 10\n",
    "total_evals = np.empty(shape = 6)\n",
    "start = timeit.default_timer()\n",
    "for i in range(iteration):\n",
    "    opt.tell(Xx.tolist(), Yy.tolist())\n",
    "    nxt_eval = opt.ask(additional_acq_func_kwargs = qei_args_dict)\n",
    "    nxt_eval = np.array(nxt_eval)\n",
    "    Xx = np.vstack([Xx, nxt_eval])\n",
    "    y = neg_hart6(nxt_eval)\n",
    "    Yy = np.append(Yy, y)\n",
    "    total_evals = np.vstack([total_evals,nxt_eval])\n",
    "    \n",
    "stop = timeit.default_timer()\n",
    "print (stop - start) \n",
    "t1 = stop - start "
   ]
  },
  {
   "cell_type": "code",
   "execution_count": 15,
   "metadata": {},
   "outputs": [
    {
     "data": {
      "text/plain": [
       "(3, 6)"
      ]
     },
     "execution_count": 15,
     "metadata": {},
     "output_type": "execute_result"
    }
   ],
   "source": [
    "nxt_eval.shape"
   ]
  },
  {
   "cell_type": "code",
   "execution_count": 16,
   "metadata": {},
   "outputs": [
    {
     "data": {
      "text/plain": [
       "array([0.00705108, 0.01778622, 2.0981479 ])"
      ]
     },
     "execution_count": 16,
     "metadata": {},
     "output_type": "execute_result"
    }
   ],
   "source": [
    "neg_hart6(nxt_eval)"
   ]
  },
  {
   "cell_type": "code",
   "execution_count": 17,
   "metadata": {},
   "outputs": [
    {
     "data": {
      "text/plain": [
       "(31, 6)"
      ]
     },
     "execution_count": 17,
     "metadata": {},
     "output_type": "execute_result"
    }
   ],
   "source": [
    "total_evals.shape"
   ]
  },
  {
   "cell_type": "code",
   "execution_count": 18,
   "metadata": {},
   "outputs": [],
   "source": [
    "qei_args_dict = {'num_sampled_points': 3,\n",
    "               'num_batches_eval' : 40000,\n",
    "               'strategy_batch_selection' : 'random'}"
   ]
  },
  {
   "cell_type": "code",
   "execution_count": 19,
   "metadata": {},
   "outputs": [
    {
     "name": "stdout",
     "output_type": "stream",
     "text": [
      "we are here :: qEI\n",
      "When tell() is called with qEI aquisition function ,we are just fitting the model and nothing more.\n",
      "we are here :: qEI\n",
      "When tell() is called with qEI aquisition function ,we are just fitting the model and nothing more.\n",
      "we are here :: qEI\n",
      "When tell() is called with qEI aquisition function ,we are just fitting the model and nothing more.\n",
      "we are here :: qEI\n",
      "When tell() is called with qEI aquisition function ,we are just fitting the model and nothing more.\n",
      "we are here :: qEI\n",
      "When tell() is called with qEI aquisition function ,we are just fitting the model and nothing more.\n",
      "we are here :: qEI\n",
      "When tell() is called with qEI aquisition function ,we are just fitting the model and nothing more.\n",
      "we are here :: qEI\n",
      "When tell() is called with qEI aquisition function ,we are just fitting the model and nothing more.\n",
      "we are here :: qEI\n",
      "When tell() is called with qEI aquisition function ,we are just fitting the model and nothing more.\n",
      "we are here :: qEI\n",
      "When tell() is called with qEI aquisition function ,we are just fitting the model and nothing more.\n",
      "we are here :: qEI\n",
      "When tell() is called with qEI aquisition function ,we are just fitting the model and nothing more.\n",
      "929.084289848\n"
     ]
    }
   ],
   "source": [
    "import timeit\n",
    "iteration = 10\n",
    "total_evals = np.empty(shape = 6)\n",
    "start = timeit.default_timer()\n",
    "for i in range(iteration):\n",
    "    opt.tell(Xx.tolist(), Yy.tolist())\n",
    "    nxt_eval = opt.ask(additional_acq_func_kwargs = qei_args_dict)\n",
    "    nxt_eval = np.array(nxt_eval)\n",
    "    Xx = np.vstack([Xx, nxt_eval])\n",
    "    y = neg_hart6(nxt_eval)\n",
    "    Yy = np.append(Yy, y)\n",
    "    total_evals = np.vstack([total_evals,nxt_eval])\n",
    "    \n",
    "stop = timeit.default_timer()\n",
    "print (stop - start) \n",
    "t2 = stop - start "
   ]
  },
  {
   "cell_type": "code",
   "execution_count": null,
   "metadata": {},
   "outputs": [],
   "source": []
  }
 ],
 "metadata": {
  "kernelspec": {
   "display_name": "Python 3",
   "language": "python",
   "name": "python3"
  },
  "language_info": {
   "codemirror_mode": {
    "name": "ipython",
    "version": 3
   },
   "file_extension": ".py",
   "mimetype": "text/x-python",
   "name": "python",
   "nbconvert_exporter": "python",
   "pygments_lexer": "ipython3",
   "version": "3.6.6"
  }
 },
 "nbformat": 4,
 "nbformat_minor": 2
}
