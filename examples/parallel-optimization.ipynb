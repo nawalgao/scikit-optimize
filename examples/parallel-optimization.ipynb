{
 "cells": [
  {
   "cell_type": "markdown",
   "metadata": {},
   "source": [
    "# Parallel optimization\n",
    "\n",
    "Iaroslav Shcherbatyi, May 2017.\n",
    "\n",
    "Reviewed by Manoj Kumar and Tim Head."
   ]
  },
  {
   "cell_type": "markdown",
   "metadata": {},
   "source": [
    "## Introduction\n",
    "\n",
    "For many practical black box optimization problems expensive objective can be evaluated in parallel at multiple points. This allows to get more objective evaluations per unit of time, which reduces the time necessary to reach good objective values when appropriate optimization algorithms are used, see for example results in [1] and the references therein. \n",
    " \n",
    " \n",
    "One such example task is a selection of number and activation function of a neural network which results in highest accuracy for some machine learning problem. For such task, multiple neural networks with different combinations of number of neurons and activation function type can be evaluated at the same time in parallel on different cpu cores / computational nodes. \n",
    " \n",
    " \n",
    "The “ask and tell” API of scikit-optimize exposes functionality that allows to obtain multiple points for evaluation in parallel. Intended usage of this interface is as follows:\n",
    "\n",
    "\n",
    "0. Initialize instance of the `Optimizer` class from skopt\n",
    "1. Obtain n points for evaluation in parallel by calling the `ask` method of an optimizer instance with the `n_points` argument set to n > 0\n",
    "2. Evaluate points\n",
    "3. Provide points and corresponding objectives using the `tell` method of an optimizer instance\n",
    "4. Continue from step 2 until eg maximum number of evaluations reached\n",
    "\n",
    "## Example\n",
    " \n",
    "A minimalistic example that uses joblib to parallelize evaluation of the objective function is given below.\n"
   ]
  },
  {
   "cell_type": "code",
   "execution_count": 5,
   "metadata": {},
   "outputs": [
    {
     "name": "stdout",
     "output_type": "stream",
     "text": [
      "17.117802423039286\n"
     ]
    }
   ],
   "source": [
    "from skopt import Optimizer\n",
    "from skopt.learning import GaussianProcessRegressor\n",
    "from skopt.space import Real\n",
    "from sklearn.externals.joblib import Parallel, delayed\n",
    "# example objective taken from skopt\n",
    "from skopt.benchmarks import branin\n",
    "\n",
    "optimizer = Optimizer(\n",
    "    dimensions=[Real(-5.0, 10.0), Real(0.0, 15.0)],\n",
    "    random_state=1\n",
    ")\n",
    "\n",
    "for i in range(1): \n",
    "    x = optimizer.ask(n_points=4)  # x is a list of n_points points    \n",
    "    y = Parallel()(delayed(branin)(v) for v in x)  # evaluate points in parallel\n",
    "    optimizer.tell(x, y)\n",
    "\n",
    "# takes ~ 20 sec to get here\n",
    "print(min(optimizer.yi))  # print the best objective found "
   ]
  },
  {
   "cell_type": "code",
   "execution_count": 6,
   "metadata": {},
   "outputs": [
    {
     "data": {
      "text/plain": [
       "4"
      ]
     },
     "execution_count": 6,
     "metadata": {},
     "output_type": "execute_result"
    }
   ],
   "source": [
    "len(optimizer.yi)"
   ]
  },
  {
   "cell_type": "markdown",
   "metadata": {},
   "source": [
    "Note that if `n_points` is set to some integer > 0 for the `ask` method, the result will be a list of points, even for `n_points`=1. If the argument is set to `None` (default value) then a single point (but not a list of points) will be returned.\n",
    "\n",
    "The default \"minimum constant liar\" [1] parallelization strategy is used in the example, which allows to obtain multiple points for evaluation with a single call to the `ask` method with any surrogate or acquisition function. Paralellization strategy can be set using the \"strategy\" argument of `ask`. For supported parallelization strategies see the documentation of scikit-optimize. "
   ]
  },
  {
   "cell_type": "markdown",
   "metadata": {},
   "source": [
    "[1] [https://hal.archives-ouvertes.fr/hal-00732512/document](https://hal.archives-ouvertes.fr/hal-00732512/document) ."
   ]
  }
 ],
 "metadata": {
  "kernel_info": {
   "name": "python3"
  },
  "kernelspec": {
   "display_name": "Python 3",
   "language": "python",
   "name": "python3"
  },
  "language_info": {
   "codemirror_mode": {
    "name": "ipython",
    "version": 3
   },
   "file_extension": ".py",
   "mimetype": "text/x-python",
   "name": "python",
   "nbconvert_exporter": "python",
   "pygments_lexer": "ipython3",
   "version": "3.7.0"
  },
  "nteract": {
   "version": "0.3.2"
  }
 },
 "nbformat": 4,
 "nbformat_minor": 1
}
