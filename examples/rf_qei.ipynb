{
 "cells": [
  {
   "cell_type": "code",
   "execution_count": null,
   "metadata": {},
   "outputs": [
    {
     "name": "stderr",
     "output_type": "stream",
     "text": [
      "/Users/nimishawalgaonkar/anaconda2/envs/scikit_optimize_develop/lib/python3.6/site-packages/sklearn/ensemble/weight_boosting.py:29: DeprecationWarning: numpy.core.umath_tests is an internal NumPy module and should not be imported. It will be removed in a future NumPy release.\n",
      "  from numpy.core.umath_tests import inner1d\n",
      "/Users/nimishawalgaonkar/anaconda2/envs/scikit_optimize_develop/lib/python3.6/importlib/_bootstrap.py:219: RuntimeWarning: numpy.dtype size changed, may indicate binary incompatibility. Expected 96, got 88\n",
      "  return f(*args, **kwds)\n",
      "Using TensorFlow backend.\n"
     ]
    }
   ],
   "source": [
    "import numpy as np\n",
    "np.random.seed(123)\n",
    "\n",
    "%matplotlib inline\n",
    "import matplotlib.pyplot as plt\n",
    "plt.set_cmap(\"viridis\")\n",
    "\n",
    "from skopt.benchmarks import branin\n",
    "from skopt import Optimizer\n",
    "from pyDOE import *"
   ]
  },
  {
   "cell_type": "code",
   "execution_count": null,
   "metadata": {},
   "outputs": [],
   "source": [
    "def plot_branin_with_points(X):\n",
    "    fig, ax = plt.subplots(figsize = (12,8))\n",
    "\n",
    "    x1_values = np.linspace(-5, 10, 100)\n",
    "    x2_values = np.linspace(0, 15, 100)\n",
    "    x_ax, y_ax = np.meshgrid(x1_values, x2_values)\n",
    "    vals = np.c_[x_ax.ravel(), y_ax.ravel()]\n",
    "    fx = np.reshape([branin(val) for val in vals], (100, 100))\n",
    "\n",
    "    cm = ax.pcolormesh(x_ax, y_ax, fx,\n",
    "                       norm=LogNorm(vmin=fx.min(), \n",
    "                                    vmax=fx.max()))\n",
    "    ax.plot(X[:,0], X[:, 1], \"k.\", markersize=14, lw=0, label=\"points\")\n",
    "\n",
    "    cb = fig.colorbar(cm)\n",
    "    cb.set_label(\"f(x)\")\n",
    "\n",
    "    ax.legend(loc=\"best\", numpoints=1)\n",
    "\n",
    "    ax.set_xlabel(\"X1\")\n",
    "    ax.set_xlim([-5, 11])\n",
    "    ax.set_ylabel(\"X2\")\n",
    "    ax.set_ylim([0, 15])"
   ]
  },
  {
   "cell_type": "code",
   "execution_count": null,
   "metadata": {},
   "outputs": [],
   "source": [
    "from matplotlib.colors import LogNorm\n",
    "\n",
    "def plot_branin_with_minima():\n",
    "    fig, ax = plt.subplots(figsize = (12,8))\n",
    "\n",
    "    x1_values = np.linspace(-5, 10, 100)\n",
    "    x2_values = np.linspace(0, 15, 100)\n",
    "    x_ax, y_ax = np.meshgrid(x1_values, x2_values)\n",
    "    vals = np.c_[x_ax.ravel(), y_ax.ravel()]\n",
    "    fx = np.reshape([branin(val) for val in vals], (100, 100))\n",
    "\n",
    "    cm = ax.pcolormesh(x_ax, y_ax, fx,\n",
    "                       norm=LogNorm(vmin=fx.min(), \n",
    "                                    vmax=fx.max()))\n",
    "\n",
    "    minima = np.array([[-np.pi, 12.275], [+np.pi, 2.275], [9.42478, 2.475]])\n",
    "    ax.plot(minima[:, 0], minima[:, 1], \"r.\", markersize=14, lw=0, label=\"Minima\")\n",
    "\n",
    "    cb = fig.colorbar(cm)\n",
    "    cb.set_label(\"f(x)\")\n",
    "\n",
    "    ax.legend(loc=\"best\", numpoints=1)\n",
    "\n",
    "    ax.set_xlabel(\"X1\")\n",
    "    ax.set_xlim([-5, 10])\n",
    "    ax.set_ylabel(\"X2\")\n",
    "    ax.set_ylim([0, 15])\n",
    "\n",
    "plot_branin_with_minima()"
   ]
  },
  {
   "cell_type": "code",
   "execution_count": null,
   "metadata": {},
   "outputs": [],
   "source": [
    "ntrain = 500 # number of initial training points\n",
    "d = 2 # number of dimensions of the input features\n",
    "\n",
    "X_train_norm = lhs(2, samples= ntrain, criterion='maximin') # Initial training points\n",
    "X_train = np.zeros(X_train_norm.shape)\n",
    "X_train[:,0] = X_train_norm[:,0]*15 - 5.\n",
    "X_train[:,1] = X_train_norm[:,1]*15\n",
    "Y_train = branin(X_train.T)\n",
    "bounds = [(-5.0, 10.0), (0.0, 15.0)]"
   ]
  },
  {
   "cell_type": "code",
   "execution_count": null,
   "metadata": {},
   "outputs": [],
   "source": [
    "opt = Optimizer(bounds, base_estimator=\"rf\", acq_func = 'EI',\n",
    "                acq_optimizer = 'sampling', random_state = 123)"
   ]
  },
  {
   "cell_type": "code",
   "execution_count": null,
   "metadata": {},
   "outputs": [],
   "source": [
    "opt.acq_optimizer"
   ]
  },
  {
   "cell_type": "code",
   "execution_count": null,
   "metadata": {},
   "outputs": [],
   "source": [
    "opt.tell(X_train.tolist(), Y_train.tolist())"
   ]
  },
  {
   "cell_type": "code",
   "execution_count": null,
   "metadata": {},
   "outputs": [],
   "source": [
    "model = opt.models[-1]"
   ]
  },
  {
   "cell_type": "code",
   "execution_count": null,
   "metadata": {},
   "outputs": [],
   "source": [
    "model"
   ]
  },
  {
   "cell_type": "code",
   "execution_count": null,
   "metadata": {},
   "outputs": [],
   "source": [
    "model.predict?"
   ]
  },
  {
   "cell_type": "code",
   "execution_count": null,
   "metadata": {},
   "outputs": [],
   "source": [
    "mean, cov = model.predict(X_train, return_cov = True)"
   ]
  },
  {
   "cell_type": "code",
   "execution_count": null,
   "metadata": {},
   "outputs": [],
   "source": []
  }
 ],
 "metadata": {
  "kernelspec": {
   "display_name": "Python 3",
   "language": "python",
   "name": "python3"
  },
  "language_info": {
   "codemirror_mode": {
    "name": "ipython",
    "version": 3
   },
   "file_extension": ".py",
   "mimetype": "text/x-python",
   "name": "python",
   "nbconvert_exporter": "python",
   "pygments_lexer": "ipython3",
   "version": "3.6.6"
  }
 },
 "nbformat": 4,
 "nbformat_minor": 2
}
