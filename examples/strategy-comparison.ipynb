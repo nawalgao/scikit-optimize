{
 "cells": [
  {
   "cell_type": "markdown",
   "metadata": {},
   "source": [
    "# Comparing surrogate models\n",
    "\n",
    "Tim Head, July 2016."
   ]
  },
  {
   "cell_type": "code",
   "execution_count": 1,
   "metadata": {},
   "outputs": [
    {
     "data": {
      "text/plain": [
       "<matplotlib.figure.Figure at 0x10d144f98>"
      ]
     },
     "metadata": {},
     "output_type": "display_data"
    }
   ],
   "source": [
    "import numpy as np\n",
    "np.random.seed(123)\n",
    "\n",
    "%matplotlib inline\n",
    "import matplotlib.pyplot as plt\n",
    "plt.set_cmap(\"viridis\")"
   ]
  },
  {
   "cell_type": "markdown",
   "metadata": {},
   "source": [
    "Bayesian optimization or sequential model-based optimization uses a surrogate model\n",
    "to model the expensive to evaluate function `func`. There are several choices\n",
    "for what kind of surrogate model to use. This notebook compares the performance of:\n",
    "\n",
    "* gaussian processes,\n",
    "* extra trees, and\n",
    "* random forests \n",
    "\n",
    "as surrogate models. A purely random optimization strategy is also used as a baseline.\n",
    "\n",
    "\n",
    "# Toy model\n",
    "\n",
    "We will use the `branin` function as toy model for the expensive function. In\n",
    "a real world application this function would be unknown and expensive to evaluate."
   ]
  },
  {
   "cell_type": "code",
   "execution_count": 2,
   "metadata": {
    "collapsed": true
   },
   "outputs": [],
   "source": [
    "from skopt.benchmarks import branin as _branin\n",
    "\n",
    "def branin(x, noise_level=0.):\n",
    "    return _branin(x) + noise_level * np.random.randn()"
   ]
  },
  {
   "cell_type": "code",
   "execution_count": 3,
   "metadata": {
    "scrolled": true
   },
   "outputs": [
    {
     "data": {
      "image/png": "[encoded data removed]",
      "text/plain": [
       "<matplotlib.figure.Figure at 0x112024b38>"
      ]
     },
     "metadata": {},
     "output_type": "display_data"
    }
   ],
   "source": [
    "from matplotlib.colors import LogNorm\n",
    "\n",
    "def plot_branin():\n",
    "    fig, ax = plt.subplots()\n",
    "\n",
    "    x1_values = np.linspace(-5, 10, 100)\n",
    "    x2_values = np.linspace(0, 15, 100)\n",
    "    x_ax, y_ax = np.meshgrid(x1_values, x2_values)\n",
    "    vals = np.c_[x_ax.ravel(), y_ax.ravel()]\n",
    "    fx = np.reshape([branin(val) for val in vals], (100, 100))\n",
    "    \n",
    "    cm = ax.pcolormesh(x_ax, y_ax, fx,\n",
    "                       norm=LogNorm(vmin=fx.min(), \n",
    "                                    vmax=fx.max()))\n",
    "\n",
    "    minima = np.array([[-np.pi, 12.275], [+np.pi, 2.275], [9.42478, 2.475]])\n",
    "    ax.plot(minima[:, 0], minima[:, 1], \"r.\", markersize=14, lw=0, label=\"Minima\")\n",
    "    \n",
    "    cb = fig.colorbar(cm)\n",
    "    cb.set_label(\"f(x)\")\n",
    "    \n",
    "    ax.legend(loc=\"best\", numpoints=1)\n",
    "    \n",
    "    ax.set_xlabel(\"X1\")\n",
    "    ax.set_xlim([-5, 10])\n",
    "    ax.set_ylabel(\"X2\")\n",
    "    ax.set_ylim([0, 15])\n",
    "    \n",
    "plot_branin()"
   ]
  },
  {
   "cell_type": "markdown",
   "metadata": {},
   "source": [
    "This shows the value of the two-dimensional branin function and the three minima.\n",
    "\n",
    "\n",
    "# Objective\n",
    "\n",
    "The objective of this example is to find one of these minima in as few iterations\n",
    "as possible. One iteration is defined as one call to the `branin` function.\n",
    "\n",
    "We will evaluate each model several times using a different seed for the\n",
    "random number generator. Then compare the average performance of these\n",
    "models. This makes the comparison more robust against models that get\n",
    "\"lucky\"."
   ]
  },
  {
   "cell_type": "code",
   "execution_count": 4,
   "metadata": {},
   "outputs": [],
   "source": [
    "from functools import partial\n",
    "from skopt import gp_minimize, forest_minimize, dummy_minimize\n",
    "\n",
    "func = partial(branin, noise_level=2.0)\n",
    "bounds = [(-5.0, 10.0), (0.0, 15.0)]\n",
    "n_calls = 60"
   ]
  },
  {
   "cell_type": "code",
   "execution_count": 5,
   "metadata": {},
   "outputs": [],
   "source": [
    "def run(minimizer, n_iter=5):\n",
    "    return [minimizer(func, bounds, n_calls=n_calls, random_state=n) \n",
    "            for n in range(n_iter)]\n",
    "\n",
    "# Random search\n",
    "dummy_res = run(dummy_minimize) \n",
    "\n",
    "# Gaussian processes\n",
    "gp_res = run(gp_minimize)\n",
    "\n",
    "# Random forest\n",
    "rf_res = run(partial(forest_minimize, base_estimator=\"RF\"))\n",
    "\n",
    "# Extra trees \n",
    "et_res = run(partial(forest_minimize, base_estimator=\"ET\"))"
   ]
  },
  {
   "cell_type": "markdown",
   "metadata": {},
   "source": [
    "Note that this can take a few minutes."
   ]
  },
  {
   "cell_type": "markdown",
   "metadata": {},
   "source": [
    "### from skopt.plots import plot_convergence\n",
    "\n",
    "plot = plot_convergence((\"dummy_minimize\", dummy_res),\n",
    "                        (\"gp_minimize\", gp_res),\n",
    "                        (\"forest_minimize('rf')\", rf_res),\n",
    "                        (\"forest_minimize('et)\", et_res), \n",
    "                        true_minimum=0.397887, yscale=\"log\")\n",
    "\n",
    "plot.legend(loc=\"best\", prop={'size': 6}, numpoints=1);"
   ]
  },
  {
   "cell_type": "markdown",
   "metadata": {},
   "source": [
    "This plot shows the value of the minimum found (y axis) as a function of the number\n",
    "of iterations performed so far (x axis). The dashed red line indicates the\n",
    "true value of the minimum of the branin function.\n",
    "\n",
    "For the first ten iterations all methods perform equally well as they all start\n",
    "by creating ten random samples before fitting their respective model for the\n",
    "first time. After iteration ten the next point at which to evaluate `branin` is\n",
    "guided by the model, which is where differences start to appear.\n",
    "\n",
    "Each minimizer only has access to noisy observations of the objective\n",
    "function, so as time passes (more iterations) it will start observing values that\n",
    "are below the true value simply because they are fluctuations."
   ]
  },
  {
   "cell_type": "markdown",
   "metadata": {},
   "source": []
  }
 ],
 "metadata": {
  "kernel_info": {
   "name": "python3"
  },
  "kernelspec": {
   "display_name": "Python 3",
   "language": "python",
   "name": "python3"
  },
  "language_info": {
   "codemirror_mode": {
    "name": "ipython",
    "version": 3
   },
   "file_extension": ".py",
   "mimetype": "text/x-python",
   "name": "python",
   "nbconvert_exporter": "python",
   "pygments_lexer": "ipython3",
   "version": "3.6.6"
  },
  "nteract": {
   "version": "0.3.4"
  }
 },
 "nbformat": 4,
 "nbformat_minor": 1
}
