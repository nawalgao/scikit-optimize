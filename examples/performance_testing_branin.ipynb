{
 "cells": [
  {
   "cell_type": "code",
   "execution_count": 3,
   "metadata": {},
   "outputs": [],
   "source": [
    "import numpy as np\n",
    "np.random.seed(123)\n",
    "%matplotlib inline\n",
    "import seaborn as sns\n",
    "sns.set_context(\"talk\", font_scale=1.2)\n",
    "import matplotlib.pyplot as plt\n",
    "from skopt import Optimizer\n",
    "from skopt.benchmarks import branin\n",
    "from pyDOE import *"
   ]
  },
  {
   "cell_type": "code",
   "execution_count": 2,
   "metadata": {},
   "outputs": [],
   "source": [
    "from scipy.spatial import distance\n",
    "def euclidean(p_pred, p_act):\n",
    "    \"\"\"\n",
    "    Euclidean distance\n",
    "    \"\"\"\n",
    "    dst = distance.euclidean(p_pred, p_act)\n",
    "    return dst"
   ]
  },
  {
   "cell_type": "code",
   "execution_count": 39,
   "metadata": {},
   "outputs": [],
   "source": [
    "ntrain = 20\n",
    "ndim = 2\n",
    "iterations = 20"
   ]
  },
  {
   "cell_type": "code",
   "execution_count": 40,
   "metadata": {},
   "outputs": [],
   "source": [
    "X_train_norm = lhs(2, samples= ntrain, criterion='maximin') # Initial training points\n",
    "X_train = np.zeros(X_train_norm.shape)\n",
    "X_train[:,0] = X_train_norm[:,0]*15 - 5.\n",
    "X_train[:,1] = X_train_norm[:,1]*15\n",
    "Y_train = neg_branin(X_train.T)\n",
    "bounds = [(-5.0, 10.0), (0.0, 15.0)]"
   ]
  },
  {
   "cell_type": "code",
   "execution_count": 41,
   "metadata": {},
   "outputs": [],
   "source": [
    "optimum = np.zeros(ndim)"
   ]
  },
  {
   "cell_type": "markdown",
   "metadata": {},
   "source": [
    "# Constant Liar Strategy"
   ]
  },
  {
   "cell_type": "markdown",
   "metadata": {},
   "source": [
    "# 1. GP"
   ]
  },
  {
   "cell_type": "code",
   "execution_count": 42,
   "metadata": {
    "scrolled": true
   },
   "outputs": [
    {
     "name": "stdout",
     "output_type": "stream",
     "text": [
      "we are here :: other Acq than qEI\n"
     ]
    },
    {
     "data": {
      "text/plain": [
       "          fun: 19.18079192651077\n",
       "    func_vals: array([20.8135378 , 20.73157896, 19.55827038, 20.59540677, 20.48518173,\n",
       "       21.16289746, 20.784845  , 21.42309229, 19.586919  , 19.3981793 ,\n",
       "       19.18079193, 19.97923932, 20.29610185, 21.19607857, 20.71478884,\n",
       "       19.40796473, 20.65223485, 20.15420189, 20.86992853, 20.68914251])\n",
       "       models: [GaussianProcessRegressor(alpha=1e-10, copy_X_train=True,\n",
       "             kernel=1**2 * Matern(length_scale=[1, 1, 1, 1, 1, 1, 1, 1, 1, 1], nu=2.5) + WhiteKernel(noise_level=1),\n",
       "             n_restarts_optimizer=2, noise='gaussian', normalize_y=True,\n",
       "             optimizer='fmin_l_bfgs_b', random_state=843828734)]\n",
       " random_state: <mtrand.RandomState object at 0x1a14cf3288>\n",
       "        space: Space([Real(low=-15.0, high=30.0, prior='uniform', transform='normalize'),\n",
       "       Real(low=-15.0, high=30.0, prior='uniform', transform='normalize'),\n",
       "       Real(low=-15.0, high=30.0, prior='uniform', transform='normalize'),\n",
       "       Real(low=-15.0, high=30.0, prior='uniform', transform='normalize'),\n",
       "       Real(low=-15.0, high=30.0, prior='uniform', transform='normalize'),\n",
       "       Real(low=-15.0, high=30.0, prior='uniform', transform='normalize'),\n",
       "       Real(low=-15.0, high=30.0, prior='uniform', transform='normalize'),\n",
       "       Real(low=-15.0, high=30.0, prior='uniform', transform='normalize'),\n",
       "       Real(low=-15.0, high=30.0, prior='uniform', transform='normalize'),\n",
       "       Real(low=-15.0, high=30.0, prior='uniform', transform='normalize')])\n",
       "        specs: None\n",
       "            x: [26.264574421599775, 12.551543831013294, -1.026031588003356, 1.8387503378279106, -7.028275239273314, 0.4029431414315887, 9.960210904712422, -3.8541814815937805, -4.519916085412937, -6.569930330752882]\n",
       "      x_iters: [[18.86677713105197, 19.412190627496855, 28.082376398189147, 12.054333913013494, -9.143402557409422, 19.045008986593565, 27.826395681288496, -10.591473243167481, 18.14835273890909, 11.238862215455196], [-10.23585351631915, 14.77420476753474, 26.49297930478381, -1.9298312863984837, 26.394519116175346, 0.83172752479196, 8.452915610197337, 15.835751731999945, 10.673097864530778, 4.835923701750886], [-0.8921033982817477, -9.8226299440473, 2.341008885602271, 23.93770437320952, 3.814088847445557, 14.080241740785326, -11.15334773574203, 11.634298743975851, 15.036416686631902, 14.874203910016618], [-4.250019710501908, -3.290315734841027, -10.173156598566479, 23.06881304923713, 6.725826981499068, 24.4146527867129, 20.12740356380383, 1.4986956383893677, 13.22143595552416, 18.0257144585674], [28.24635746506621, 11.815718285907995, -6.990589734799396, -12.014025241615123, -2.231170964453913, -3.7364372572800786, 21.478870871780586, 29.960900816671177, 5.843123278765123, 8.131073206455326], [15.71734621603412, 26.838916221782135, 24.208715224588296, 7.731479742107606, -10.764878772307613, -10.899816416871618, -0.4733911521564824, 25.179716521382325, 25.32536029783096, -2.6448214178071865], [-7.624446914075918, -12.28624096039447, 22.9861042155691, 10.373029027603508, 13.596117807907138, 28.926507001991745, -9.229716729158675, 8.336981511579626, -7.726455647491018, -12.198675663249729], [25.261197077715693, 28.475974045028217, -14.122782981761342, 3.3713994963630824, 20.573655276608335, -5.465674005026402, -12.89024619722116, 21.88268415993884, 9.453708097888004, 27.882613826856804], [-12.13385502378058, 4.376948337873536, -4.153708005724756, -7.496618071049206, 10.927846983731296, -9.680578238047993, 4.146153886538006, 12.84399558321942, -8.976961815781289, 25.722415390257723], [14.122201256573593, -5.549097041334029, 12.02960962040444, -13.301706566461238, 18.21047308031776, 4.942545040965971, 14.787262663820922, 3.6680284111279278, 2.881018964791725, 13.932562884558244], [26.264574421599775, 12.551543831013294, -1.026031588003356, 1.8387503378279106, -7.028275239273314, 0.4029431414315887, 9.960210904712422, -3.8541814815937805, -4.519916085412937, -6.569930330752882], [18.74756641343879, 16.591386280256536, 17.953100673787, -4.953896576873639, -1.0094202610136804, -14.4550054353924, -5.251694393135228, -2.9697118795194903, 0.5990062083183361, 19.24985339059147], [9.796296354135656, 7.437221051762982, 3.463795956641764, 16.587074066277555, 1.7494973879879545, 26.575000608844228, 16.70212170091282, -0.8704454585195158, -11.799277455506868, -0.7927094543343056], [-14.245026284536607, -6.581039050174027, -2.690950315995279, 27.598895698394422, 21.934882989384683, 15.628535136320227, 25.05905932875033, 20.97348362316177, 27.733076480831492, 2.139734948508057], [-2.201157727753582, 0.8476907046831261, 15.992805460171294, 6.169485300928002, 29.503301908933828, 6.162719696515264, 26.888668699244853, 26.410663843440936, -14.21520603880427, -10.015112743629764], [3.829968393782085, -0.6890466312291519, 11.69508062454062, -0.5522998713674703, 25.312909766863747, -6.688534418568954, 5.829033237916285, -6.943395269862478, 5.138066156405589, -13.572064341919393], [5.97669137130546, -14.21347598693799, 7.4715399701183784, 28.389493277696005, -4.245525010299874, 9.995448443844715, 13.051493114278966, 5.435968520999705, 20.780752211847457, 23.932606651574424], [2.7968579895975125, 24.367142937844008, -11.993236059757212, 19.395982401882364, 14.622509934139604, 17.017702404371157, 0.8415371786056074, -10.069494628378749, -1.6251775358581693, 5.860829670396928], [8.396937929287066, 7.915993569806943, 9.646091407457572, 14.55288036900706, -14.169094857535542, 22.67538478985265, -3.5533325790311476, 17.95901185179536, 29.136014574524957, -4.261024881371531], [21.000184247130754, 23.20634401963948, 19.764948778994714, -10.292581280921167, 8.906719199562303, 8.493819123103997, -6.197702726675335, -12.95697506175816, 22.915983115621152, 21.28712750449055]]"
      ]
     },
     "execution_count": 42,
     "metadata": {},
     "output_type": "execute_result"
    }
   ],
   "source": [
    "opt = Optimizer(bounds, base_estimator=\"gp\", acq_func = 'EI',\n",
    "                acq_optimizer = 'sampling', random_state = 123)\n",
    "opt.tell(X_train.tolist(), Y_train.tolist())"
   ]
  },
  {
   "cell_type": "code",
   "execution_count": null,
   "metadata": {},
   "outputs": [
    {
     "name": "stdout",
     "output_type": "stream",
     "text": [
      "we are here :: other Acq than qEI\n",
      "we are here :: other Acq than qEI\n",
      "we are here :: other Acq than qEI\n",
      "we are here :: other Acq than qEI\n",
      "we are here :: other Acq than qEI\n",
      "we are here :: other Acq than qEI\n",
      "we are here :: other Acq than qEI\n",
      "we are here :: other Acq than qEI\n",
      "we are here :: other Acq than qEI\n",
      "we are here :: other Acq than qEI\n",
      "we are here :: other Acq than qEI\n",
      "we are here :: other Acq than qEI\n",
      "Time taken for queries:4.086693891033065\n",
      "we are here :: other Acq than qEI\n",
      "we are here :: other Acq than qEI\n",
      "we are here :: other Acq than qEI\n",
      "we are here :: other Acq than qEI\n",
      "we are here :: other Acq than qEI\n",
      "we are here :: other Acq than qEI\n",
      "we are here :: other Acq than qEI\n",
      "we are here :: other Acq than qEI\n",
      "we are here :: other Acq than qEI\n",
      "we are here :: other Acq than qEI\n",
      "we are here :: other Acq than qEI\n",
      "we are here :: other Acq than qEI\n",
      "Time taken for queries:7.368006742035504\n",
      "we are here :: other Acq than qEI\n",
      "we are here :: other Acq than qEI\n",
      "we are here :: other Acq than qEI\n",
      "we are here :: other Acq than qEI\n",
      "we are here :: other Acq than qEI\n",
      "we are here :: other Acq than qEI\n",
      "we are here :: other Acq than qEI\n",
      "we are here :: other Acq than qEI\n",
      "we are here :: other Acq than qEI\n",
      "we are here :: other Acq than qEI\n",
      "we are here :: other Acq than qEI\n",
      "we are here :: other Acq than qEI\n",
      "Time taken for queries:9.340833946014754\n",
      "we are here :: other Acq than qEI\n",
      "we are here :: other Acq than qEI\n",
      "we are here :: other Acq than qEI\n",
      "we are here :: other Acq than qEI\n",
      "we are here :: other Acq than qEI\n",
      "we are here :: other Acq than qEI\n",
      "we are here :: other Acq than qEI\n",
      "we are here :: other Acq than qEI\n",
      "we are here :: other Acq than qEI\n",
      "we are here :: other Acq than qEI\n",
      "we are here :: other Acq than qEI\n",
      "we are here :: other Acq than qEI\n",
      "Time taken for queries:19.320753340027295\n",
      "we are here :: other Acq than qEI\n",
      "we are here :: other Acq than qEI\n",
      "we are here :: other Acq than qEI\n",
      "we are here :: other Acq than qEI\n",
      "we are here :: other Acq than qEI\n",
      "we are here :: other Acq than qEI\n",
      "we are here :: other Acq than qEI\n",
      "we are here :: other Acq than qEI\n",
      "we are here :: other Acq than qEI\n",
      "we are here :: other Acq than qEI\n",
      "we are here :: other Acq than qEI\n",
      "we are here :: other Acq than qEI\n",
      "Time taken for queries:35.120926403964404\n",
      "we are here :: other Acq than qEI\n",
      "we are here :: other Acq than qEI\n",
      "we are here :: other Acq than qEI\n",
      "we are here :: other Acq than qEI\n",
      "we are here :: other Acq than qEI\n",
      "we are here :: other Acq than qEI\n",
      "we are here :: other Acq than qEI\n",
      "we are here :: other Acq than qEI\n",
      "we are here :: other Acq than qEI\n",
      "we are here :: other Acq than qEI\n",
      "we are here :: other Acq than qEI\n",
      "we are here :: other Acq than qEI\n",
      "Time taken for queries:42.027091090974864\n",
      "we are here :: other Acq than qEI\n",
      "we are here :: other Acq than qEI\n",
      "we are here :: other Acq than qEI\n",
      "we are here :: other Acq than qEI\n",
      "we are here :: other Acq than qEI\n",
      "we are here :: other Acq than qEI\n",
      "we are here :: other Acq than qEI\n",
      "we are here :: other Acq than qEI\n",
      "we are here :: other Acq than qEI\n",
      "we are here :: other Acq than qEI\n",
      "we are here :: other Acq than qEI\n",
      "we are here :: other Acq than qEI\n",
      "Time taken for queries:108.32598361099372\n",
      "we are here :: other Acq than qEI\n",
      "we are here :: other Acq than qEI\n",
      "we are here :: other Acq than qEI\n",
      "we are here :: other Acq than qEI\n",
      "we are here :: other Acq than qEI\n",
      "we are here :: other Acq than qEI\n",
      "we are here :: other Acq than qEI\n",
      "we are here :: other Acq than qEI\n",
      "we are here :: other Acq than qEI\n",
      "we are here :: other Acq than qEI\n",
      "we are here :: other Acq than qEI\n",
      "we are here :: other Acq than qEI\n",
      "Time taken for queries:181.97854312998243\n",
      "we are here :: other Acq than qEI\n",
      "we are here :: other Acq than qEI\n",
      "we are here :: other Acq than qEI\n",
      "we are here :: other Acq than qEI\n",
      "we are here :: other Acq than qEI\n",
      "we are here :: other Acq than qEI\n",
      "we are here :: other Acq than qEI\n",
      "we are here :: other Acq than qEI\n",
      "we are here :: other Acq than qEI\n",
      "we are here :: other Acq than qEI\n",
      "we are here :: other Acq than qEI\n",
      "we are here :: other Acq than qEI\n",
      "Time taken for queries:314.93243547395105\n",
      "we are here :: other Acq than qEI\n",
      "we are here :: other Acq than qEI\n",
      "we are here :: other Acq than qEI\n",
      "we are here :: other Acq than qEI\n",
      "we are here :: other Acq than qEI\n",
      "we are here :: other Acq than qEI\n",
      "we are here :: other Acq than qEI\n",
      "we are here :: other Acq than qEI\n",
      "we are here :: other Acq than qEI\n",
      "we are here :: other Acq than qEI\n",
      "we are here :: other Acq than qEI\n",
      "we are here :: other Acq than qEI\n",
      "Time taken for queries:481.01834269199753\n",
      "we are here :: other Acq than qEI\n",
      "we are here :: other Acq than qEI\n",
      "we are here :: other Acq than qEI\n",
      "we are here :: other Acq than qEI\n",
      "we are here :: other Acq than qEI\n",
      "we are here :: other Acq than qEI\n",
      "we are here :: other Acq than qEI\n",
      "we are here :: other Acq than qEI\n",
      "we are here :: other Acq than qEI\n",
      "we are here :: other Acq than qEI\n",
      "we are here :: other Acq than qEI\n",
      "we are here :: other Acq than qEI\n",
      "Time taken for queries:709.4987411749898\n",
      "we are here :: other Acq than qEI\n"
     ]
    }
   ],
   "source": [
    "import timeit\n",
    "Xx = X_train\n",
    "Yy = Y_train\n",
    "all_points = []\n",
    "time_tk = []\n",
    "best_iter = []\n",
    "for i in range(iterations):\n",
    "    start = timeit.default_timer()\n",
    "    next_points = opt.ask(n_points= 10)\n",
    "    stop = timeit.default_timer()\n",
    "    t = stop - start\n",
    "    time_tk.append(t)\n",
    "    next_obj = ackley(np.array(next_points))\n",
    "    cur_best = np.abs(np.min(next_obj) - 0.4)\n",
    "    best_iter.append(cur_best)\n",
    "    Xx = np.vstack([Xx, np.array(next_points)])\n",
    "    Yy = np.append(Yy, next_obj)\n",
    "    opt.tell(Xx.tolist(), Yy.tolist())\n",
    "    print ('Time taken for queries' + ':' + str(t)) \n",
    "    all_points.append(next_points)\n",
    "    \n",
    "gp_best = best_iter\n",
    "gp_time = time_tk\n",
    "gp_points = all_points"
   ]
  },
  {
   "cell_type": "markdown",
   "metadata": {},
   "source": [
    "# 2. RF"
   ]
  },
  {
   "cell_type": "code",
   "execution_count": null,
   "metadata": {},
   "outputs": [],
   "source": [
    "opt = Optimizer(bounds, base_estimator=\"rf\", acq_func = 'EI',\n",
    "                acq_optimizer = 'sampling', random_state = 123)\n",
    "opt.tell(X_train.tolist(), Y_train.tolist())\n",
    "\n",
    "import timeit\n",
    "Xx = X_train\n",
    "Yy = Y_train\n",
    "all_points = []\n",
    "time_tk = []\n",
    "best_iter = []\n",
    "for i in range(iterations):\n",
    "    start = timeit.default_timer()\n",
    "    next_points = opt.ask(n_points= 10)\n",
    "    stop = timeit.default_timer()\n",
    "    t = stop - start\n",
    "    time_tk.append(t)\n",
    "    next_obj = ackley(np.array(next_points))\n",
    "    cur_best = np.abs(np.min(next_obj) - 0.4)\n",
    "    best_iter.append(cur_best)\n",
    "    Xx = np.vstack([Xx, np.array(next_points)])\n",
    "    Yy = np.append(Yy, next_obj)\n",
    "    opt.tell(Xx.tolist(), Yy.tolist())\n",
    "    print ('Time taken for queries' + ':' + str(t)) \n",
    "    all_points.append(next_points)\n",
    "    \n",
    "rf_best = best_iter\n",
    "rf_time = time_tk\n",
    "rf_points = all_points"
   ]
  },
  {
   "cell_type": "code",
   "execution_count": null,
   "metadata": {},
   "outputs": [],
   "source": [
    "rf_time"
   ]
  },
  {
   "cell_type": "code",
   "execution_count": null,
   "metadata": {},
   "outputs": [],
   "source": [
    "gp_time"
   ]
  },
  {
   "cell_type": "code",
   "execution_count": null,
   "metadata": {},
   "outputs": [],
   "source": [
    "rf_best"
   ]
  },
  {
   "cell_type": "code",
   "execution_count": null,
   "metadata": {},
   "outputs": [],
   "source": [
    "gp_best"
   ]
  }
 ],
 "metadata": {
  "kernelspec": {
   "display_name": "Python 3",
   "language": "python",
   "name": "python3"
  },
  "language_info": {
   "codemirror_mode": {
    "name": "ipython",
    "version": 3
   },
   "file_extension": ".py",
   "mimetype": "text/x-python",
   "name": "python",
   "nbconvert_exporter": "python",
   "pygments_lexer": "ipython3",
   "version": "3.6.6"
  }
 },
 "nbformat": 4,
 "nbformat_minor": 2
}
